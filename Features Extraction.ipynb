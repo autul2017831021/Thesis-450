{
 "cells": [
  {
   "cell_type": "code",
   "execution_count": 1,
   "id": "a4c39faa",
   "metadata": {},
   "outputs": [],
   "source": [
    "import librosa\n",
    "import numpy as np\n",
    "import math\n",
    "import librosa.display as display\n",
    "import matplotlib.pyplot as plt\n",
    "from collections import Counter\n",
    "import soundfile as sf\n",
    "import IPython.display as ipd\n",
    "import csv\n",
    "import os\n",
    "import glob"
   ]
  },
  {
   "cell_type": "markdown",
   "id": "5e6b3819",
   "metadata": {},
   "source": [
    "<h1>Generating Initial Features</h1>"
   ]
  },
  {
   "cell_type": "code",
   "execution_count": 2,
   "id": "7723beb3",
   "metadata": {},
   "outputs": [],
   "source": [
    "def give_music_array_and_sample_rate(audio):\n",
    "    y, sr = librosa.load(audio)\n",
    "    return y,sr"
   ]
  },
  {
   "cell_type": "code",
   "execution_count": 3,
   "id": "66b8251e",
   "metadata": {},
   "outputs": [],
   "source": [
    "def give_tempo_and_beat_frames(y,sr):\n",
    "    tempo, beat_frames = librosa.beat.beat_track(y=y, sr=sr)\n",
    "    return tempo,beat_frames"
   ]
  },
  {
   "cell_type": "code",
   "execution_count": 4,
   "id": "f159d80a",
   "metadata": {},
   "outputs": [],
   "source": [
    "def give_chroma(y,sr):\n",
    "    chroma = librosa.feature.chroma_cqt(y=y, sr=sr)\n",
    "    return chroma"
   ]
  },
  {
   "cell_type": "code",
   "execution_count": 5,
   "id": "e857ed83",
   "metadata": {},
   "outputs": [],
   "source": [
    "def give_pitch_magnitude(y,sr):\n",
    "    pitch, magnitude = librosa.piptrack(y=y, sr=sr)\n",
    "    return pitch, magnitude"
   ]
  },
  {
   "cell_type": "code",
   "execution_count": 6,
   "id": "9a6f4d6f",
   "metadata": {},
   "outputs": [],
   "source": [
    "def give_mfcc(y,sr):\n",
    "    mfcc = librosa.feature.mfcc(y=y, sr=sr)\n",
    "    return mfcc"
   ]
  },
  {
   "cell_type": "code",
   "execution_count": 7,
   "id": "51bcf9e4",
   "metadata": {},
   "outputs": [],
   "source": [
    "def give_spectral_contrast(y,sr):\n",
    "    spectral_contrast = librosa.feature.spectral_contrast(y=y, sr=sr)\n",
    "    return spectral_contrast"
   ]
  },
  {
   "cell_type": "code",
   "execution_count": 8,
   "id": "6d0ecf04",
   "metadata": {},
   "outputs": [],
   "source": [
    "def give_rms(y):\n",
    "    rms = librosa.feature.rms(y=y)\n",
    "    return rms"
   ]
  },
  {
   "cell_type": "code",
   "execution_count": 9,
   "id": "1004d67b",
   "metadata": {},
   "outputs": [],
   "source": [
    "def give_zero_crossing_rate(y):\n",
    "    zcr = librosa.feature.zero_crossing_rate(y)\n",
    "    return zcr"
   ]
  },
  {
   "cell_type": "code",
   "execution_count": 10,
   "id": "dfebfd9b",
   "metadata": {},
   "outputs": [],
   "source": [
    "def give_onset_envelope_and_onsets(y,sr):\n",
    "    onset_envelope = librosa.onset.onset_strength(y=y, sr=sr)\n",
    "    onsets = librosa.onset.onset_detect(y=y, onset_envelope=onset_envelope, sr=sr)\n",
    "    return onset_envelope,onsets"
   ]
  },
  {
   "cell_type": "markdown",
   "id": "96d4720b",
   "metadata": {},
   "source": [
    "<h1>Load Initial Features</h1>"
   ]
  },
  {
   "cell_type": "code",
   "execution_count": 11,
   "id": "7cc5e9d2",
   "metadata": {},
   "outputs": [],
   "source": [
    "def load_initial_features(audio):\n",
    "    y,sr = give_music_array_and_sample_rate(audio)\n",
    "    tempo,beat_frames = give_tempo_and_beat_frames(y,sr)\n",
    "    chroma = give_chroma(y,sr)\n",
    "    pitch, magnitude = give_pitch_magnitude(y,sr)\n",
    "    mfcc = give_mfcc(y,sr)\n",
    "    spectral_contrast = give_spectral_contrast(y,sr)\n",
    "    rms = give_rms(y)\n",
    "    zcr = give_zero_crossing_rate(y)\n",
    "    onset_envelope,onsets = give_onset_envelope_and_onsets(y,sr)\n",
    "    \n",
    "    return y, sr, tempo, beat_frames, chroma, pitch, magnitude, mfcc, spectral_contrast, rms, zcr, onset_envelope, onsets"
   ]
  },
  {
   "cell_type": "markdown",
   "id": "26b3ed79",
   "metadata": {},
   "source": [
    "<h1>Utility Functions</h1>"
   ]
  },
  {
   "cell_type": "code",
   "execution_count": 12,
   "id": "7c29534a",
   "metadata": {},
   "outputs": [],
   "source": [
    "def util_hz_to_cents(arr):\n",
    "    res = []\n",
    "    for i in range(arr.size):\n",
    "        if(arr[i]>0):\n",
    "            mul = arr[i]/440\n",
    "            ans = 1200* (math.log2(mul))\n",
    "            res.append(ans)\n",
    "    return res"
   ]
  },
  {
   "cell_type": "code",
   "execution_count": 13,
   "id": "e70c221d",
   "metadata": {},
   "outputs": [],
   "source": [
    "def util_most_frequent(list1):\n",
    "    count = Counter(list1)\n",
    "    return max(count, key=count.get) , max(count.values())"
   ]
  },
  {
   "cell_type": "code",
   "execution_count": 14,
   "id": "458993d2",
   "metadata": {},
   "outputs": [],
   "source": [
    "def util_return_key_name(key):\n",
    "    if key == 0:\n",
    "        return \"C\"\n",
    "    elif key == 1:\n",
    "        return \"C#/Db\"\n",
    "    elif key == 2:\n",
    "        return \"D\"\n",
    "    elif key == 3:\n",
    "        return \"D#/Eb\"\n",
    "    elif key == 4:\n",
    "        return \"E\"\n",
    "    elif key == 5:\n",
    "        return \"F\"\n",
    "    elif key == 6:\n",
    "        return \"F#/Gb\"\n",
    "    elif key == 7:\n",
    "        return \"G\"\n",
    "    elif key == 8:\n",
    "        return \"G#/Ab\"\n",
    "    elif key == 9:\n",
    "        return \"A\"\n",
    "    elif key == 10:\n",
    "        return \"A#/Bb\"\n",
    "    else :\n",
    "        return \"B\""
   ]
  },
  {
   "cell_type": "code",
   "execution_count": 15,
   "id": "e3ff2d33",
   "metadata": {},
   "outputs": [],
   "source": [
    "def util_return_mode_type_value(chroma):\n",
    "    ionian = [1, 0, 1, 0, 1, 1, 0, 1, 0, 1, 0, 1]\n",
    "    dorian = [1, 0, 1, 1, 0, 1, 0, 1, 0, 1, 1, 0]\n",
    "    phrygian = [1, 1, 0, 1, 0, 1, 0, 1, 1, 0, 1, 0]\n",
    "    lydian = [1, 0, 1, 0, 1, 0, 1, 1, 0, 1, 0, 1]\n",
    "    mixolydian = [1, 0, 1, 0, 1, 1, 0, 1, 0, 1, 1, 0]\n",
    "    aeolian = [1, 0, 1, 1, 0, 1, 0, 1, 1, 0, 1, 0]\n",
    "    locrian = [1, 1, 0, 1, 0, 1, 1, 0, 1, 0, 1, 0]\n",
    "    \n",
    "    chroma_mean = np.mean(chroma, axis=1)\n",
    "    \n",
    "    # Compute the correlation between the chroma features and each reference pattern\n",
    "    corr_ionian = np.corrcoef(chroma_mean, ionian)[0, 1]\n",
    "    corr_dorian = np.corrcoef(chroma_mean, dorian)[0, 1]\n",
    "    corr_phrygian = np.corrcoef(chroma_mean, phrygian)[0, 1]\n",
    "    corr_lydian = np.corrcoef(chroma_mean, lydian)[0, 1]\n",
    "    corr_mixolydian = np.corrcoef(chroma_mean, mixolydian)[0, 1]\n",
    "    corr_aeolian = np.corrcoef(chroma_mean, aeolian)[0, 1]\n",
    "    corr_locrian = np.corrcoef(chroma_mean, locrian)[0, 1]\n",
    "\n",
    "    # Determine the mode with the highest correlation\n",
    "    mode_type = np.argmax([corr_ionian, corr_dorian, corr_phrygian, corr_lydian, corr_mixolydian, corr_aeolian, corr_locrian]) \n",
    "    return mode_type"
   ]
  },
  {
   "cell_type": "code",
   "execution_count": 16,
   "id": "4ff66890",
   "metadata": {},
   "outputs": [],
   "source": [
    "def util_return_mode_type_name(mode_type_value):\n",
    "    if mode_type_value == 0:\n",
    "        return \"ionian\"\n",
    "    elif mode_type_value == 1:\n",
    "        return \"dorian\"\n",
    "    elif mode_type_value == 2:\n",
    "        return \"phrygian\"\n",
    "    elif mode_type_value == 3:\n",
    "        return \"lydian\"\n",
    "    elif mode_type_value == 4:\n",
    "        return \"mixolydian\"\n",
    "    elif mode_type_value == 5:\n",
    "        return \"aeolian\"\n",
    "    else :\n",
    "        return \"locrian\""
   ]
  },
  {
   "cell_type": "markdown",
   "id": "97e92395",
   "metadata": {},
   "source": [
    "<h1>Feature Extraction Starts</h1>"
   ]
  },
  {
   "cell_type": "code",
   "execution_count": 17,
   "id": "ce7383ea",
   "metadata": {},
   "outputs": [],
   "source": [
    "def get_number_of_beats(beat_frames):\n",
    "    n_beats = len(beat_frames)\n",
    "    return n_beats"
   ]
  },
  {
   "cell_type": "code",
   "execution_count": 18,
   "id": "64437a98",
   "metadata": {},
   "outputs": [],
   "source": [
    "def get_hemitonicity(spectral_contrast):\n",
    "    hemitonicity = np.mean(spectral_contrast)\n",
    "    return hemitonicity"
   ]
  },
  {
   "cell_type": "code",
   "execution_count": 19,
   "id": "92779263",
   "metadata": {},
   "outputs": [],
   "source": [
    "def get_melodic_range(pitch):\n",
    "    pitch_sequence = np.argmax(pitch, axis=0)\n",
    "    cents = util_hz_to_cents(pitch_sequence)\n",
    "    min_cents     = np.min(cents)\n",
    "    max_cents     = np.max(cents)\n",
    "    melodic_range = max_cents - min_cents\n",
    "    return melodic_range"
   ]
  },
  {
   "cell_type": "code",
   "execution_count": 20,
   "id": "9293a09c",
   "metadata": {},
   "outputs": [],
   "source": [
    "def get_melisma(mfcc,spectral_contrast,rms,zcr):\n",
    "    melisma = np.mean(mfcc) * np.mean(spectral_contrast) * np.mean(rms) * np.mean(zcr)\n",
    "    return melisma"
   ]
  },
  {
   "cell_type": "code",
   "execution_count": 21,
   "id": "932e2ac2",
   "metadata": {},
   "outputs": [],
   "source": [
    "def get_phrase_min_max_mean_overlap(onsets,sr):\n",
    "    phrase_length = np.diff(onsets)\n",
    "    phrase_length_sec = phrase_length / sr\n",
    "    \n",
    "    max_phrase_len = np.max(phrase_length_sec)\n",
    "    min_phrase_len = np.min(phrase_length_sec)\n",
    "    mean_phrase_len = max_phrase_len - min_phrase_len\n",
    "    \n",
    "    phrase_symmetry = max_phrase_len/min_phrase_len\n",
    "    \n",
    "    overlap = []\n",
    "    for i in range(len(phrase_length) - 1):\n",
    "        overlap.append(sum(phrase_length[i:i+2]) / max(phrase_length[i:i+2]))\n",
    "\n",
    "    num,times = util_most_frequent(overlap)\n",
    "    phrase_overlap = (times/len(overlap))*100\n",
    "    \n",
    "    return max_phrase_len, min_phrase_len, mean_phrase_len, phrase_symmetry, phrase_overlap"
   ]
  },
  {
   "cell_type": "code",
   "execution_count": 22,
   "id": "f664617b",
   "metadata": {},
   "outputs": [],
   "source": [
    "def get_key(chroma):\n",
    "    key = np.argmax(np.mean(chroma, axis=1))\n",
    "    key_name = util_return_key_name(key)\n",
    "    return key,key_name"
   ]
  },
  {
   "cell_type": "code",
   "execution_count": 23,
   "id": "6c83a05d",
   "metadata": {},
   "outputs": [],
   "source": [
    "def get_mode(chroma):\n",
    "    mode = 1 if np.mean(chroma[5:7]) > np.mean(chroma[-5:-3]) else 0\n",
    "    return mode"
   ]
  },
  {
   "cell_type": "code",
   "execution_count": 24,
   "id": "679e10ed",
   "metadata": {},
   "outputs": [],
   "source": [
    "def get_mode_type(chroma):\n",
    "    mode_type_value = util_return_mode_type_value(chroma)\n",
    "    mode_type_name  = util_return_mode_type_name(mode_type_value)\n",
    "    return mode_type_value, mode_type_name"
   ]
  },
  {
   "cell_type": "code",
   "execution_count": 25,
   "id": "707eb30d",
   "metadata": {},
   "outputs": [],
   "source": [
    "def get_tuning(y,sr):\n",
    "    tuning = librosa.estimate_tuning(y=y,sr=sr)\n",
    "    return tuning"
   ]
  },
  {
   "cell_type": "code",
   "execution_count": 26,
   "id": "d7d063bc",
   "metadata": {},
   "outputs": [],
   "source": [
    "def get_timbre(y,sr):\n",
    "    timbre = librosa.feature.spectral_centroid(y=y, sr=sr)\n",
    "    timbre_mean = np.mean(timbre)\n",
    "    return timbre, timbre_mean"
   ]
  },
  {
   "cell_type": "markdown",
   "id": "d5767e0a",
   "metadata": {},
   "source": [
    "<h2>Confusing but Important Features</h2>"
   ]
  },
  {
   "cell_type": "code",
   "execution_count": 27,
   "id": "3ff829cc",
   "metadata": {},
   "outputs": [],
   "source": [
    "def get_texture(y,sr):\n",
    "    ## feature is incomplete\n",
    "    ## need an R&D\n",
    "    texture_matrix = librosa.feature.melspectrogram(y=y, sr=sr)\n",
    "    #texture_matrix = librosa.feature.spectral_contrast(y=y, sr=sr)\n",
    "    texture = (np.mean(texture_matrix, axis=1))\n",
    "    return texture"
   ]
  },
  {
   "cell_type": "code",
   "execution_count": 28,
   "id": "05020f8e",
   "metadata": {},
   "outputs": [],
   "source": [
    "def get_dynamics(y):\n",
    "    ## feature is incomplete\n",
    "    ## need an R&D\n",
    "    dynamics = give_rms(y)\n",
    "    return dynamics"
   ]
  },
  {
   "cell_type": "code",
   "execution_count": 29,
   "id": "cdf5fab6",
   "metadata": {},
   "outputs": [],
   "source": [
    "def get_motif(y,sr):\n",
    "    ## feature is incomplete\n",
    "    ## need an R&D\n",
    "    motif_matrix = librosa.feature.tempogram(y=y, sr=sr)\n",
    "    motif = (np.mean(motif_matrix, axis=1))\n",
    "    return motif"
   ]
  },
  {
   "cell_type": "markdown",
   "id": "11dabe2a",
   "metadata": {},
   "source": [
    "<h1>Write CSV</h1>"
   ]
  },
  {
   "cell_type": "code",
   "execution_count": 30,
   "id": "610c44ec",
   "metadata": {},
   "outputs": [],
   "source": [
    "fieldnames = [\"Country\",\"Song Name\",\"Number Of Beats\",\"Tempo\",\"Hemitonicity\",\"Melodic Range\",\"Melisma\",\"Max Phrase Length\",\n",
    "              \"Min Phrase Length\",\"Avg Phrase Length\",\"Phrase Symmetry\",\"Phrase Overlap\",\"Key\",\n",
    "              \"Mode\",\"Mode Type\",\"Tuning\",\"Timbre\",\"Timbre Mean\"]"
   ]
  },
  {
   "cell_type": "code",
   "execution_count": 31,
   "id": "cc063387",
   "metadata": {},
   "outputs": [],
   "source": [
    "def generate_dictionary_for_csv(fieldnames,feature_list):\n",
    "    dict = []\n",
    "    obj = {}\n",
    "    for i in range(len(fieldnames)):\n",
    "        obj[fieldnames[i]] = feature_list[i]\n",
    "    dict.append(obj)\n",
    "    return dict  "
   ]
  },
  {
   "cell_type": "code",
   "execution_count": 32,
   "id": "8716611e",
   "metadata": {},
   "outputs": [],
   "source": [
    "def has_header(csv_path):\n",
    "    try:\n",
    "        with open(csv_path, 'r') as file:\n",
    "            reader = csv.reader(file)\n",
    "            header = next(reader)\n",
    "            return header is not None\n",
    "    except StopIteration:\n",
    "        return False"
   ]
  },
  {
   "cell_type": "code",
   "execution_count": 33,
   "id": "c4dd6f9b",
   "metadata": {},
   "outputs": [],
   "source": [
    "def create_csv(csv_path,feature_list):\n",
    "    with open(csv_path,mode='a') as file:\n",
    "        writer = csv.DictWriter(file,fieldnames=fieldnames)\n",
    "        if not has_header(csv_path):\n",
    "            writer.writeheader()\n",
    "        dict = generate_dictionary_for_csv(fieldnames,feature_list)\n",
    "        writer.writerows(dict)\n",
    "        file.close()    "
   ]
  },
  {
   "cell_type": "code",
   "execution_count": 34,
   "id": "d49da717",
   "metadata": {},
   "outputs": [],
   "source": [
    "def get_features(audio,song_name):\n",
    "    print(audio)\n",
    "    ## Loading the initial features\n",
    "    y, sr, tempo, beat_frames, chroma, pitch, magnitude, mfcc, spectral_contrast, rms, zcr, onset_envelope, onsets = load_initial_features(audio)\n",
    "    \n",
    "    ## Getting values of the featues\n",
    "    n_beats = get_number_of_beats(beat_frames)\n",
    "    hemitonicity = get_hemitonicity(spectral_contrast)\n",
    "    melodic_range = get_melodic_range(pitch)\n",
    "    melisma = get_melisma(mfcc,spectral_contrast,rms,zcr)\n",
    "    max_phrase_len, min_phrase_len, avg_phrase_len, phrase_symmetry, phrase_overlap = get_phrase_min_max_mean_overlap(onsets,sr)\n",
    "    key,key_name = get_key(chroma)\n",
    "    mode = get_mode(chroma)\n",
    "    mode_type_value,mode_type_name = get_mode_type(chroma)\n",
    "    tuning = get_tuning(y,sr)\n",
    "    timbre, timbre_mean = get_timbre(y,sr)\n",
    "    \n",
    "    ## Creating feature_list \n",
    "    feature_list = []\n",
    "    feature_list.append(1)\n",
    "    feature_list.append(song_name)\n",
    "    feature_list.append(n_beats)\n",
    "    feature_list.append(tempo)\n",
    "    feature_list.append(hemitonicity)\n",
    "    feature_list.append(melodic_range)\n",
    "    feature_list.append(melisma)\n",
    "    feature_list.append(max_phrase_len)\n",
    "    feature_list.append(min_phrase_len)\n",
    "    feature_list.append(avg_phrase_len)\n",
    "    feature_list.append(phrase_symmetry)\n",
    "    feature_list.append(phrase_overlap)\n",
    "    feature_list.append(key)\n",
    "    feature_list.append(mode)\n",
    "    feature_list.append(mode_type_value)\n",
    "    feature_list.append(tuning)\n",
    "    feature_list.append(timbre)\n",
    "    feature_list.append(timbre_mean)\n",
    "    \n",
    "    ## Printing the features\n",
    "#     print(\"Number Of Beats:\", n_beats)\n",
    "#     print(\"Tempo:\",tempo)\n",
    "#     print(\"Hemitonicity:\", hemitonicity)\n",
    "#     print(\"Melodic Range:\",melodic_range)\n",
    "#     print(\"Melisma:\",melisma)\n",
    "#     print(\"Max Phrase Length:\",max_phrase_len,\"\\nMax Phrase Length::\",min_phrase_len,\"\\nAvg Phrase Length::\",mean_phrase_len)\n",
    "#     print(\"Phrase Symmetry:\",phrase_symmetry)\n",
    "#     print(\"Phrase Overlap:\",phrase_overlap)\n",
    "#     print(\"Key:\",key_name,\"-\",key)\n",
    "#     print(\"Mode:\",\"In Major Key -\" if mode==0 else \"In Minor Key -\",mode)\n",
    "#     print(\"Mode Type:\",mode_type_name,\"-\",mode_type_value)\n",
    "#     print(\"Tuning:\",tuning)\n",
    "#     print(\"Timbre:\",timbre,\"\\nTimbre Mean:\",timbre_mean)\n",
    "    \n",
    "    return feature_list"
   ]
  },
  {
   "cell_type": "code",
   "execution_count": 35,
   "id": "330ab889",
   "metadata": {},
   "outputs": [
    {
     "name": "stdout",
     "output_type": "stream",
     "text": [
      "data\\testing\\Arnob-She je boshe ache.wav\n",
      "\n",
      "\n",
      "data\\testing\\Spiritbox - The Mara Effect live at Silverside Sound.wav\n",
      "\n",
      "\n",
      "data\\testing\\Take  No Prisoners - Megadeth (original version).wav\n",
      "\n",
      "\n",
      "data\\testing\\Vibe - Odhora (with lyrics).wav\n",
      "\n",
      "\n"
     ]
    }
   ],
   "source": [
    "audio_path = 'data\\\\testing\\\\'\n",
    "csv_path = 'csvfile.csv'\n",
    "\n",
    "for audio in glob.glob(audio_path + '*'):\n",
    "    song_name = audio.split('\\\\')[-1]\n",
    "    feature_list = get_features(audio,song_name)\n",
    "    create_csv(csv_path,feature_list)\n",
    "    print(\"\\n\")"
   ]
  },
  {
   "cell_type": "code",
   "execution_count": 37,
   "id": "1c1cb2d6",
   "metadata": {},
   "outputs": [
    {
     "data": {
      "text/html": [
       "<div>\n",
       "<style scoped>\n",
       "    .dataframe tbody tr th:only-of-type {\n",
       "        vertical-align: middle;\n",
       "    }\n",
       "\n",
       "    .dataframe tbody tr th {\n",
       "        vertical-align: top;\n",
       "    }\n",
       "\n",
       "    .dataframe thead th {\n",
       "        text-align: right;\n",
       "    }\n",
       "</style>\n",
       "<table border=\"1\" class=\"dataframe\">\n",
       "  <thead>\n",
       "    <tr style=\"text-align: right;\">\n",
       "      <th></th>\n",
       "      <th>Country</th>\n",
       "      <th>Song Name</th>\n",
       "      <th>Number Of Beats</th>\n",
       "      <th>Tempo</th>\n",
       "      <th>Hemitonicity</th>\n",
       "      <th>Melodic Range</th>\n",
       "      <th>Melisma</th>\n",
       "      <th>Max Phrase Length</th>\n",
       "      <th>Min Phrase Length</th>\n",
       "      <th>Avg Phrase Length</th>\n",
       "      <th>Phrase Symmetry</th>\n",
       "      <th>Phrase Overlap</th>\n",
       "      <th>Key</th>\n",
       "      <th>Mode</th>\n",
       "      <th>Mode Type</th>\n",
       "      <th>Tuning</th>\n",
       "      <th>Timbre</th>\n",
       "      <th>Timbre Mean</th>\n",
       "    </tr>\n",
       "  </thead>\n",
       "  <tbody>\n",
       "    <tr>\n",
       "      <th>0</th>\n",
       "      <td>1</td>\n",
       "      <td>Arnob-She je boshe ache.wav</td>\n",
       "      <td>437</td>\n",
       "      <td>129.199219</td>\n",
       "      <td>26.446217</td>\n",
       "      <td>5673.504545</td>\n",
       "      <td>-0.641634</td>\n",
       "      <td>0.003628</td>\n",
       "      <td>0.000091</td>\n",
       "      <td>0.003537</td>\n",
       "      <td>40.0</td>\n",
       "      <td>19.252078</td>\n",
       "      <td>11</td>\n",
       "      <td>0</td>\n",
       "      <td>3</td>\n",
       "      <td>0.09</td>\n",
       "      <td>[[0. 0. 0. ... 0. 0. 0.]]</td>\n",
       "      <td>2605.370422</td>\n",
       "    </tr>\n",
       "    <tr>\n",
       "      <th>1</th>\n",
       "      <td>1</td>\n",
       "      <td>Spiritbox - The Mara Effect live at Silverside...</td>\n",
       "      <td>1762</td>\n",
       "      <td>107.666016</td>\n",
       "      <td>24.030729</td>\n",
       "      <td>5673.504545</td>\n",
       "      <td>1.741410</td>\n",
       "      <td>0.008662</td>\n",
       "      <td>0.000091</td>\n",
       "      <td>0.008571</td>\n",
       "      <td>95.5</td>\n",
       "      <td>7.413088</td>\n",
       "      <td>6</td>\n",
       "      <td>0</td>\n",
       "      <td>3</td>\n",
       "      <td>0.05</td>\n",
       "      <td>[[   0.            0.            0.         .....</td>\n",
       "      <td>2402.741730</td>\n",
       "    </tr>\n",
       "    <tr>\n",
       "      <th>2</th>\n",
       "      <td>1</td>\n",
       "      <td>Take  No Prisoners - Megadeth (original versio...</td>\n",
       "      <td>540</td>\n",
       "      <td>161.499023</td>\n",
       "      <td>21.134573</td>\n",
       "      <td>5442.330452</td>\n",
       "      <td>0.952498</td>\n",
       "      <td>0.004263</td>\n",
       "      <td>0.000091</td>\n",
       "      <td>0.004172</td>\n",
       "      <td>47.0</td>\n",
       "      <td>15.184049</td>\n",
       "      <td>6</td>\n",
       "      <td>1</td>\n",
       "      <td>6</td>\n",
       "      <td>0.05</td>\n",
       "      <td>[[0. 0. 0. ... 0. 0. 0.]]</td>\n",
       "      <td>2411.465939</td>\n",
       "    </tr>\n",
       "    <tr>\n",
       "      <th>3</th>\n",
       "      <td>1</td>\n",
       "      <td>Vibe - Odhora (with lyrics).wav</td>\n",
       "      <td>594</td>\n",
       "      <td>129.199219</td>\n",
       "      <td>28.259078</td>\n",
       "      <td>5673.504545</td>\n",
       "      <td>1.488525</td>\n",
       "      <td>0.002766</td>\n",
       "      <td>0.000091</td>\n",
       "      <td>0.002676</td>\n",
       "      <td>30.5</td>\n",
       "      <td>13.048246</td>\n",
       "      <td>2</td>\n",
       "      <td>0</td>\n",
       "      <td>3</td>\n",
       "      <td>0.01</td>\n",
       "      <td>[[   0.            0.            0.         .....</td>\n",
       "      <td>2511.507527</td>\n",
       "    </tr>\n",
       "  </tbody>\n",
       "</table>\n",
       "</div>"
      ],
      "text/plain": [
       "   Country                                          Song Name  \\\n",
       "0        1                        Arnob-She je boshe ache.wav   \n",
       "1        1  Spiritbox - The Mara Effect live at Silverside...   \n",
       "2        1  Take  No Prisoners - Megadeth (original versio...   \n",
       "3        1                    Vibe - Odhora (with lyrics).wav   \n",
       "\n",
       "   Number Of Beats       Tempo  Hemitonicity  Melodic Range   Melisma  \\\n",
       "0              437  129.199219     26.446217    5673.504545 -0.641634   \n",
       "1             1762  107.666016     24.030729    5673.504545  1.741410   \n",
       "2              540  161.499023     21.134573    5442.330452  0.952498   \n",
       "3              594  129.199219     28.259078    5673.504545  1.488525   \n",
       "\n",
       "   Max Phrase Length  Min Phrase Length  Avg Phrase Length  Phrase Symmetry  \\\n",
       "0           0.003628           0.000091           0.003537             40.0   \n",
       "1           0.008662           0.000091           0.008571             95.5   \n",
       "2           0.004263           0.000091           0.004172             47.0   \n",
       "3           0.002766           0.000091           0.002676             30.5   \n",
       "\n",
       "   Phrase Overlap  Key  Mode  Mode Type  Tuning  \\\n",
       "0       19.252078   11     0          3    0.09   \n",
       "1        7.413088    6     0          3    0.05   \n",
       "2       15.184049    6     1          6    0.05   \n",
       "3       13.048246    2     0          3    0.01   \n",
       "\n",
       "                                              Timbre  Timbre Mean  \n",
       "0                          [[0. 0. 0. ... 0. 0. 0.]]  2605.370422  \n",
       "1  [[   0.            0.            0.         .....  2402.741730  \n",
       "2                          [[0. 0. 0. ... 0. 0. 0.]]  2411.465939  \n",
       "3  [[   0.            0.            0.         .....  2511.507527  "
      ]
     },
     "execution_count": 37,
     "metadata": {},
     "output_type": "execute_result"
    }
   ],
   "source": [
    "import pandas as pd\n",
    "data = pd.read_csv(\"csvfile.csv\")\n",
    "data"
   ]
  },
  {
   "cell_type": "code",
   "execution_count": null,
   "id": "f6695607",
   "metadata": {},
   "outputs": [],
   "source": []
  }
 ],
 "metadata": {
  "kernelspec": {
   "display_name": "Python 3 (ipykernel)",
   "language": "python",
   "name": "python3"
  },
  "language_info": {
   "codemirror_mode": {
    "name": "ipython",
    "version": 3
   },
   "file_extension": ".py",
   "mimetype": "text/x-python",
   "name": "python",
   "nbconvert_exporter": "python",
   "pygments_lexer": "ipython3",
   "version": "3.10.7"
  }
 },
 "nbformat": 4,
 "nbformat_minor": 5
}
