{
 "cells": [
  {
   "cell_type": "code",
   "execution_count": 70,
   "id": "0db7c550",
   "metadata": {},
   "outputs": [],
   "source": [
    "import librosa\n",
    "import numpy as np\n",
    "import math\n",
    "import librosa.display as display\n",
    "import matplotlib.pyplot as plt\n",
    "from collections import Counter\n",
    "import soundfile as sf\n",
    "import IPython.display as ipd"
   ]
  },
  {
   "cell_type": "markdown",
   "id": "ab8d88be",
   "metadata": {},
   "source": [
    "<h1>Generating Initial Features</h1>"
   ]
  },
  {
   "cell_type": "code",
   "execution_count": 137,
   "id": "a4baf9ab",
   "metadata": {},
   "outputs": [],
   "source": [
    "def give_music_array_and_sample_rate(audio):\n",
    "    y, sr = librosa.load(audio)\n",
    "    return y,sr"
   ]
  },
  {
   "cell_type": "code",
   "execution_count": 138,
   "id": "32578c2f",
   "metadata": {},
   "outputs": [],
   "source": [
    "def give_tempo_and_beat_frames(y,sr):\n",
    "    tempo, beat_frames = librosa.beat.beat_track(y=y, sr=sr)\n",
    "    return tempo,beat_frames"
   ]
  },
  {
   "cell_type": "code",
   "execution_count": 139,
   "id": "425e991a",
   "metadata": {},
   "outputs": [],
   "source": [
    "def give_chroma(y,sr):\n",
    "    chroma = librosa.feature.chroma_cqt(y=y, sr=sr)\n",
    "    return chroma"
   ]
  },
  {
   "cell_type": "code",
   "execution_count": 140,
   "id": "dae39c75",
   "metadata": {},
   "outputs": [],
   "source": [
    "def give_pitch_magnitude(y,sr):\n",
    "    pitch, magnitude = librosa.piptrack(y=y, sr=sr)\n",
    "    return pitch, magnitude"
   ]
  },
  {
   "cell_type": "code",
   "execution_count": 141,
   "id": "77cb7021",
   "metadata": {},
   "outputs": [],
   "source": [
    "def give_mfcc(y,sr):\n",
    "    mfcc = librosa.feature.mfcc(y=y, sr=sr)\n",
    "    return mfcc"
   ]
  },
  {
   "cell_type": "code",
   "execution_count": 142,
   "id": "952a3abd",
   "metadata": {},
   "outputs": [],
   "source": [
    "def give_spectral_contrast(y,sr):\n",
    "    spectral_contrast = librosa.feature.spectral_contrast(y=y, sr=sr)\n",
    "    return spectral_contrast"
   ]
  },
  {
   "cell_type": "code",
   "execution_count": 143,
   "id": "4f722be5",
   "metadata": {},
   "outputs": [],
   "source": [
    "def give_rms(y):\n",
    "    rms = librosa.feature.rms(y=y)\n",
    "    return rms"
   ]
  },
  {
   "cell_type": "code",
   "execution_count": 144,
   "id": "b0cd646f",
   "metadata": {},
   "outputs": [],
   "source": [
    "def give_zero_crossing_rate(y):\n",
    "    zcr = librosa.feature.zero_crossing_rate(y)\n",
    "    return zcr"
   ]
  },
  {
   "cell_type": "code",
   "execution_count": 145,
   "id": "b8fa4efe",
   "metadata": {},
   "outputs": [],
   "source": [
    "def give_onset_envelope_and_onsets(y,sr):\n",
    "    onset_envelope = librosa.onset.onset_strength(y=y, sr=sr)\n",
    "    onsets = librosa.onset.onset_detect(y=y, onset_envelope=onset_envelope, sr=sr)\n",
    "    return onset_envelope,onsets"
   ]
  },
  {
   "cell_type": "markdown",
   "id": "8d0b2b58",
   "metadata": {},
   "source": [
    "<h1>Load Initial Features</h1>"
   ]
  },
  {
   "cell_type": "code",
   "execution_count": 146,
   "id": "e6471707",
   "metadata": {},
   "outputs": [],
   "source": [
    "def load_initial_features(audio):\n",
    "    y,sr = give_music_array_and_sample_rate(audio)\n",
    "    tempo,beat_frames = give_tempo_and_beat_frames(y,sr)\n",
    "    chroma = give_chroma(y,sr)\n",
    "    pitch, magnitude = give_pitch_magnitude(y,sr)\n",
    "    mfcc = give_mfcc(y,sr)\n",
    "    spectral_contrast = give_spectral_contrast(y,sr)\n",
    "    rms = give_rms(y)\n",
    "    zcr = give_zero_crossing_rate(y)\n",
    "    onset_envelope,onsets = give_onset_envelope_and_onsets(y,sr)\n",
    "    \n",
    "    return y, sr, tempo, beat_frames, chroma, pitch, magnitude, mfcc, spectral_contrast, rms, zcr, onset_envelope, onsets"
   ]
  },
  {
   "cell_type": "markdown",
   "id": "0aa10b41",
   "metadata": {},
   "source": [
    "<h1>Utility Functions</h1>"
   ]
  },
  {
   "cell_type": "code",
   "execution_count": 187,
   "id": "afb13205",
   "metadata": {},
   "outputs": [],
   "source": [
    "def util_hz_to_cents(arr):\n",
    "    res = []\n",
    "    for i in range(arr.size):\n",
    "        if(arr[i]>0):\n",
    "            mul = arr[i]/440\n",
    "            ans = 1200* (math.log2(mul))\n",
    "            res.append(ans)\n",
    "    return res"
   ]
  },
  {
   "cell_type": "code",
   "execution_count": 147,
   "id": "76cd5f27",
   "metadata": {},
   "outputs": [],
   "source": [
    "def util_most_frequent(list1):\n",
    "    count = Counter(list1)\n",
    "    return max(count, key=count.get) , max(count.values())"
   ]
  },
  {
   "cell_type": "code",
   "execution_count": 148,
   "id": "09677395",
   "metadata": {},
   "outputs": [],
   "source": [
    "def util_return_key_name(key):\n",
    "    if key == 0:\n",
    "        return \"C\"\n",
    "    elif key == 1:\n",
    "        return \"C#/Db\"\n",
    "    elif key == 2:\n",
    "        return \"D\"\n",
    "    elif key == 3:\n",
    "        return \"D#/Eb\"\n",
    "    elif key == 4:\n",
    "        return \"E\"\n",
    "    elif key == 5:\n",
    "        return \"F\"\n",
    "    elif key == 6:\n",
    "        return \"F#/Gb\"\n",
    "    elif key == 7:\n",
    "        return \"G\"\n",
    "    elif key == 8:\n",
    "        return \"G#/Ab\"\n",
    "    elif key == 9:\n",
    "        return \"A\"\n",
    "    elif key == 10:\n",
    "        return \"A#/Bb\"\n",
    "    else :\n",
    "        return \"B\""
   ]
  },
  {
   "cell_type": "code",
   "execution_count": 149,
   "id": "565f3203",
   "metadata": {},
   "outputs": [],
   "source": [
    "def util_return_mode_type_value(chroma):\n",
    "    ionian = [1, 0, 1, 0, 1, 1, 0, 1, 0, 1, 0, 1]\n",
    "    dorian = [1, 0, 1, 1, 0, 1, 0, 1, 0, 1, 1, 0]\n",
    "    phrygian = [1, 1, 0, 1, 0, 1, 0, 1, 1, 0, 1, 0]\n",
    "    lydian = [1, 0, 1, 0, 1, 0, 1, 1, 0, 1, 0, 1]\n",
    "    mixolydian = [1, 0, 1, 0, 1, 1, 0, 1, 0, 1, 1, 0]\n",
    "    aeolian = [1, 0, 1, 1, 0, 1, 0, 1, 1, 0, 1, 0]\n",
    "    locrian = [1, 1, 0, 1, 0, 1, 1, 0, 1, 0, 1, 0]\n",
    "    \n",
    "    chroma_mean = np.mean(chroma, axis=1)\n",
    "    \n",
    "    # Compute the correlation between the chroma features and each reference pattern\n",
    "    corr_ionian = np.corrcoef(chroma_mean, ionian)[0, 1]\n",
    "    corr_dorian = np.corrcoef(chroma_mean, dorian)[0, 1]\n",
    "    corr_phrygian = np.corrcoef(chroma_mean, phrygian)[0, 1]\n",
    "    corr_lydian = np.corrcoef(chroma_mean, lydian)[0, 1]\n",
    "    corr_mixolydian = np.corrcoef(chroma_mean, mixolydian)[0, 1]\n",
    "    corr_aeolian = np.corrcoef(chroma_mean, aeolian)[0, 1]\n",
    "    corr_locrian = np.corrcoef(chroma_mean, locrian)[0, 1]\n",
    "\n",
    "    # Determine the mode with the highest correlation\n",
    "    mode_type = np.argmax([corr_ionian, corr_dorian, corr_phrygian, corr_lydian, corr_mixolydian, corr_aeolian, corr_locrian]) \n",
    "    return mode_type"
   ]
  },
  {
   "cell_type": "code",
   "execution_count": 150,
   "id": "17d2c7e1",
   "metadata": {},
   "outputs": [],
   "source": [
    "def util_return_mode_type_name(mode_type_value):\n",
    "    if mode_type_value == 0:\n",
    "        return \"ionian\"\n",
    "    elif mode_type_value == 1:\n",
    "        return \"dorian\"\n",
    "    elif mode_type_value == 2:\n",
    "        return \"phrygian\"\n",
    "    elif mode_type_value == 3:\n",
    "        return \"lydian\"\n",
    "    elif mode_type_value == 4:\n",
    "        return \"mixolydian\"\n",
    "    elif mode_type_value == 5:\n",
    "        return \"aeolian\"\n",
    "    else :\n",
    "        return \"locrian\""
   ]
  },
  {
   "cell_type": "markdown",
   "id": "788bae55",
   "metadata": {},
   "source": [
    "<h1>Feature Extraction Starts</h1>"
   ]
  },
  {
   "cell_type": "code",
   "execution_count": 168,
   "id": "ed0cc5b3",
   "metadata": {},
   "outputs": [],
   "source": [
    "def get_number_of_beats(beat_frames):\n",
    "    n_beats = len(beat_frames)\n",
    "    return n_beats"
   ]
  },
  {
   "cell_type": "code",
   "execution_count": 169,
   "id": "c6714955",
   "metadata": {},
   "outputs": [],
   "source": [
    "def get_hemitonicity(spectral_contrast):\n",
    "    hemitonicity = np.mean(spectral_contrast)\n",
    "    return hemitonicity"
   ]
  },
  {
   "cell_type": "code",
   "execution_count": 188,
   "id": "4c86a54e",
   "metadata": {},
   "outputs": [],
   "source": [
    "def get_melodic_range(pitch):\n",
    "    pitch_sequence = np.argmax(pitch, axis=0)\n",
    "    cents = util_hz_to_cents(pitch_sequence)\n",
    "    min_cents     = np.min(cents)\n",
    "    max_cents     = np.max(cents)\n",
    "    melodic_range = max_cents - min_cents\n",
    "    return melodic_range"
   ]
  },
  {
   "cell_type": "code",
   "execution_count": 171,
   "id": "e50cdbd6",
   "metadata": {},
   "outputs": [],
   "source": [
    "def get_melisma(mfcc,spectral_contrast,rms,zcr):\n",
    "    melisma = np.mean(mfcc) * np.mean(spectral_contrast) * np.mean(rms) * np.mean(zcr)\n",
    "    return melisma"
   ]
  },
  {
   "cell_type": "code",
   "execution_count": 172,
   "id": "342ae2af",
   "metadata": {},
   "outputs": [],
   "source": [
    "def get_phrase_min_max_mean_overlap(onsets,sr):\n",
    "    phrase_length = np.diff(onsets)\n",
    "    phrase_length_sec = phrase_length / sr\n",
    "    \n",
    "    max_phrase_len = np.max(phrase_length_sec)\n",
    "    min_phrase_len = np.min(phrase_length_sec)\n",
    "    mean_phrase_len = max_phrase_len - min_phrase_len\n",
    "    \n",
    "    phrase_symmetry = max_phrase_len/min_phrase_len\n",
    "    \n",
    "    overlap = []\n",
    "    for i in range(len(phrase_length) - 1):\n",
    "        overlap.append(sum(phrase_length[i:i+2]) / max(phrase_length[i:i+2]))\n",
    "\n",
    "    num,times = util_most_frequent(overlap)\n",
    "    phrase_overlap = (times/len(overlap))*100\n",
    "    \n",
    "    return max_phrase_len, min_phrase_len, mean_phrase_len, phrase_symmetry, phrase_overlap"
   ]
  },
  {
   "cell_type": "code",
   "execution_count": 173,
   "id": "5dfbc2c4",
   "metadata": {},
   "outputs": [],
   "source": [
    "def get_key(chroma):\n",
    "    key = np.argmax(np.mean(chroma, axis=1))\n",
    "    key_name = util_return_key_name(key)\n",
    "    return key,key_name"
   ]
  },
  {
   "cell_type": "code",
   "execution_count": 174,
   "id": "109216f7",
   "metadata": {},
   "outputs": [],
   "source": [
    "def get_mode(chroma):\n",
    "    mode = 1 if np.mean(chroma[5:7]) > np.mean(chroma[-5:-3]) else 0\n",
    "    return mode"
   ]
  },
  {
   "cell_type": "code",
   "execution_count": 175,
   "id": "e3e36b54",
   "metadata": {},
   "outputs": [],
   "source": [
    "def get_mode_type(chroma):\n",
    "    mode_type_value = util_return_mode_type_value(chroma)\n",
    "    mode_type_name  = util_return_mode_type_name(mode_type_value)\n",
    "    return mode_type_value, mode_type_name"
   ]
  },
  {
   "cell_type": "code",
   "execution_count": 176,
   "id": "f444fd8f",
   "metadata": {},
   "outputs": [],
   "source": [
    "def get_tuning(y,sr):\n",
    "    tuning = librosa.estimate_tuning(y=y,sr=sr)\n",
    "    return tuning"
   ]
  },
  {
   "cell_type": "code",
   "execution_count": 177,
   "id": "bfb1c0d0",
   "metadata": {},
   "outputs": [],
   "source": [
    "def get_timbre(y,sr):\n",
    "    timbre = librosa.feature.spectral_centroid(y=y, sr=sr)\n",
    "    timbre_mean = np.mean(timbre)\n",
    "    return timbre, timbre_mean"
   ]
  },
  {
   "cell_type": "markdown",
   "id": "9beda93e",
   "metadata": {},
   "source": [
    "<h2>Confusing but Important Features</h2>"
   ]
  },
  {
   "cell_type": "code",
   "execution_count": 179,
   "id": "0416bc0f",
   "metadata": {},
   "outputs": [],
   "source": [
    "def get_texture(y,sr):\n",
    "    ## feature is incomplete\n",
    "    ## need an R&D\n",
    "    texture_matrix = librosa.feature.melspectrogram(y=y, sr=sr)\n",
    "    #texture_matrix = librosa.feature.spectral_contrast(y=y, sr=sr)\n",
    "    texture = (np.mean(texture_matrix, axis=1))\n",
    "    return texture"
   ]
  },
  {
   "cell_type": "code",
   "execution_count": 180,
   "id": "6a13147c",
   "metadata": {},
   "outputs": [],
   "source": [
    "def get_dynamics(y):\n",
    "    ## feature is incomplete\n",
    "    ## need an R&D\n",
    "    dynamics = give_rms(y)\n",
    "    return dynamics"
   ]
  },
  {
   "cell_type": "code",
   "execution_count": 181,
   "id": "e0d90a46",
   "metadata": {},
   "outputs": [],
   "source": [
    "def get_motif(y,sr):\n",
    "    ## feature is incomplete\n",
    "    ## need an R&D\n",
    "    motif_matrix = librosa.feature.tempogram(y=y, sr=sr)\n",
    "    motif = (np.mean(motif_matrix, axis=1))\n",
    "    return motif"
   ]
  },
  {
   "cell_type": "code",
   "execution_count": 193,
   "id": "94c8205a",
   "metadata": {},
   "outputs": [],
   "source": [
    "def get_features():\n",
    "    print(\"bal\")\n",
    "    #audio_path = 'data/Vibe - Odhora (with lyrics).wav'\n",
    "    audio = 'data/Vibe - Odhora (with lyrics).wav'\n",
    "    y, sr, tempo, beat_frames, chroma, pitch, magnitude, mfcc, spectral_contrast, rms, zcr, onset_envelope, onsets = load_initial_features(audio)\n",
    "    ## Featues\n",
    "    n_beats = number_of_beats(beat_frames)\n",
    "    hemitonicity = get_hemitonicity(spectral_contrast)\n",
    "    melodic_range = get_melodic_range(pitch)\n",
    "    melisma = get_melisma(mfcc,spectral_contrast,rms,zcr)\n",
    "    max_phrase_len, min_phrase_len, mean_phrase_len, phrase_symmetry, phrase_overlap = get_phrase_min_max_mean_overlap(onsets,sr)\n",
    "    key,key_name = get_key(chroma)\n",
    "    mode = get_mode(chroma)\n",
    "    mode_type_value,mode_type_name = get_mode_type(chroma)\n",
    "    tuning = get_tuning(y,sr)\n",
    "    timbre, timbre_mean = get_timbre(y,sr)\n",
    "    print(n_beats)\n",
    "    print(tempo)\n",
    "    print(hemitonicity)\n",
    "    print(melodic_range)\n",
    "    print(melisma)\n",
    "    print(max_phrase_len, min_phrase_len, mean_phrase_len, phrase_symmetry, phrase_overlap)\n",
    "    print(key,key_name)\n",
    "    print(mode)\n",
    "    print(mode_type_value,mode_type_name)\n",
    "    print(tuning)\n",
    "    print(timbre, timbre_mean)\n",
    "    "
   ]
  },
  {
   "cell_type": "code",
   "execution_count": null,
   "id": "094bb479",
   "metadata": {},
   "outputs": [
    {
     "name": "stdout",
     "output_type": "stream",
     "text": [
      "bal\n"
     ]
    }
   ],
   "source": [
    "get_features()"
   ]
  },
  {
   "cell_type": "code",
   "execution_count": null,
   "id": "4ec6f579",
   "metadata": {},
   "outputs": [],
   "source": []
  }
 ],
 "metadata": {
  "kernelspec": {
   "display_name": "Python 3 (ipykernel)",
   "language": "python",
   "name": "python3"
  },
  "language_info": {
   "codemirror_mode": {
    "name": "ipython",
    "version": 3
   },
   "file_extension": ".py",
   "mimetype": "text/x-python",
   "name": "python",
   "nbconvert_exporter": "python",
   "pygments_lexer": "ipython3",
   "version": "3.10.7"
  }
 },
 "nbformat": 4,
 "nbformat_minor": 5
}
