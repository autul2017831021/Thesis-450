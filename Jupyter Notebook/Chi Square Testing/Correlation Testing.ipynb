{
 "cells": [
  {
   "cell_type": "code",
   "execution_count": 12,
   "id": "91822453",
   "metadata": {},
   "outputs": [],
   "source": [
    "import os\n",
    "import math\n",
    "import re\n",
    "import statistics\n",
    "import pandas as pd\n",
    "import seaborn as sns\n",
    "import numpy as np\n",
    "from scipy.stats import pearsonr\n",
    "from scipy.stats import kendalltau"
   ]
  },
  {
   "cell_type": "code",
   "execution_count": 29,
   "id": "1f783bfb",
   "metadata": {},
   "outputs": [],
   "source": [
    "corr_fieldnames = [\n",
    "                    'Country', \n",
    "                    'Song Name', \n",
    "                    'Popularity', \n",
    "                    'Time Signature', \n",
    "                    'Duration MS', \n",
    "                    'Tempo', \n",
    "                    'Valence', \n",
    "                    'Liveness', \n",
    "                    'Instrumentalness', \n",
    "                    'Acousticness', \n",
    "                    'Speechiness', \n",
    "                    'Loudness', \n",
    "                    'Key', \n",
    "                    'Mode', \n",
    "                    'Energy', \n",
    "                    'Danceability', \n",
    "                    'Tempo-Valence', \n",
    "                    'Tempo-Liveness', \n",
    "                    'Tempo-Instrumentalness', \n",
    "                    'Tempo-Acousticness', \n",
    "                    'Tempo-Speechiness', \n",
    "                    'Tempo-Loudness', \n",
    "                    'Tempo-Energy', \n",
    "                    'Tempo-Danceability', \n",
    "                    'Valence-Liveness', \n",
    "                    'Valence-Acousticness', \n",
    "                    'Valence-Speechiness', \n",
    "                    'Valence-Loudness', \n",
    "                    'Valence-Energy', \n",
    "                    'Valence-Danceability', \n",
    "                    'Liveness-Instrumentalness', \n",
    "                    'Liveness-Acousticness', \n",
    "                    'Liveness-Speechiness', \n",
    "                    'Liveness-Loudness', \n",
    "                    'Liveness-Energy', \n",
    "                    'Liveness-Danceability', \n",
    "                    'Instrumentalness-Acousticness', \n",
    "                    'Instrumentalness-Loudness', \n",
    "                    'Instrumentalness-Energy', \n",
    "                    'Instrumentalness-Danceability', \n",
    "                    'Acousticness-Speechiness', \n",
    "                    'Acousticness-Loudness', \n",
    "                    'Acousticness-Energy', \n",
    "                    'Acousticness-Danceability', \n",
    "                    'Speechiness-Loudness', \n",
    "                    'Speechiness-Energy', \n",
    "                    'Loudness-Energy', \n",
    "                    'Loudness-Danceability', \n",
    "                    'Energy-Danceability'\n",
    "                ]"
   ]
  },
  {
   "cell_type": "code",
   "execution_count": 30,
   "id": "e58c59e4",
   "metadata": {},
   "outputs": [],
   "source": [
    "scaled_all_backup_csv_path = '../backup_csv/scaled_backup_all_song_features_csv.csv'\n",
    "scaled_bangladesh_backup_csv_path = '../backup_csv/scaled_backup_bangladesh_song_features_csv.csv'\n",
    "scaled_kolkata_backup_csv_path = '../backup_csv/scaled_backup_kolkata_song_features_csv.csv'\n",
    "\n",
    "alls = pd.read_csv(scaled_all_backup_csv_path)\n",
    "bd = pd.read_csv(scaled_bangladesh_backup_csv_path)\n",
    "ind = pd.read_csv(scaled_kolkata_backup_csv_path)"
   ]
  },
  {
   "cell_type": "code",
   "execution_count": 31,
   "id": "3d725f9b",
   "metadata": {},
   "outputs": [],
   "source": [
    "scaled_all_song_correlated_features_csv_path = '../correlated_csv/scaled_all_song_correlated_features_csv.csv'\n",
    "scaled_bangladesh_song_correlated_features_csv_path = '../correlated_csv/scaled_bangladesh_song_correlated_features_csv.csv'\n",
    "scaled_kolkata_song_correlated_features_csv_path = '../correlated_csv/scaled_kolkata_song_correlated_features_csv.csv'\n",
    "\n",
    "corr_alls = pd.read_csv(scaled_all_song_correlated_features_csv_path)\n",
    "corr_bd = pd.read_csv(scaled_bangladesh_song_correlated_features_csv_path)\n",
    "corr_ind = pd.read_csv(scaled_kolkata_song_correlated_features_csv_path)"
   ]
  },
  {
   "cell_type": "code",
   "execution_count": 32,
   "id": "c76e442f",
   "metadata": {},
   "outputs": [],
   "source": [
    "def pearson_correlarion(df,key_name1,key_name2):\n",
    "    corr, _ = pearsonr(df[key_name1], df[key_name2])\n",
    "    return corr"
   ]
  },
  {
   "cell_type": "code",
   "execution_count": 33,
   "id": "b1e77535",
   "metadata": {},
   "outputs": [],
   "source": [
    "def kendalltau_correlation(df,key_name1,key_name2):\n",
    "    corr, _ = kendalltau(df[key_name1], df[key_name2])\n",
    "    return corr"
   ]
  },
  {
   "cell_type": "code",
   "execution_count": 34,
   "id": "a6c892c6",
   "metadata": {},
   "outputs": [],
   "source": [
    "corr_arr_of_dataframes = [corr_alls,corr_bd,corr_ind]"
   ]
  },
  {
   "cell_type": "code",
   "execution_count": 36,
   "id": "2b286baa",
   "metadata": {},
   "outputs": [
    {
     "name": "stdout",
     "output_type": "stream",
     "text": [
      "All Songs Pearson Correlation\n",
      "Popularity X Duration MS : 0.11167250312376391\n",
      "Popularity X Tempo : 0.0017356501251653254\n",
      "Popularity X Valence : -0.12962150974682113\n",
      "Popularity X Liveness : 0.014026266746400305\n",
      "Popularity X Instrumentalness : 0.046306053662060614\n",
      "Popularity X Acousticness : -0.020712191183934178\n",
      "Popularity X Speechiness : -0.032852974600730146\n",
      "Popularity X Loudness : 0.07689787158153406\n",
      "Popularity X Key : 0.07843200073415785\n",
      "Popularity X Mode : -0.001208273148365844\n",
      "Popularity X Energy : 0.06936849925032981\n",
      "Popularity X Danceability : 0.04707612507413757\n",
      "Popularity X Tempo-Valence : -0.10675909020127788\n",
      "Popularity X Tempo-Liveness : 0.014568059590246433\n",
      "Popularity X Tempo-Instrumentalness : 0.0380472130615681\n",
      "Popularity X Tempo-Acousticness : -0.016659551351635316\n",
      "Popularity X Tempo-Speechiness : -0.04140851619813284\n",
      "Popularity X Tempo-Loudness : 0.012198670794615457\n",
      "Popularity X Tempo-Energy : 0.024698524000911472\n",
      "Popularity X Tempo-Danceability : 0.03306429391259429\n",
      "Popularity X Valence-Liveness : -0.027328023447791127\n",
      "Popularity X Valence-Acousticness : -0.054710546994773485\n",
      "Popularity X Valence-Speechiness : -0.09908098476867162\n",
      "Popularity X Valence-Loudness : -0.07294725952125372\n",
      "Popularity X Valence-Energy : -0.05654088847442043\n",
      "Popularity X Valence-Danceability : -0.0644074644368718\n",
      "Popularity X Liveness-Instrumentalness : 0.04303972946331145\n",
      "Popularity X Liveness-Acousticness : -0.0020551719161383958\n",
      "Popularity X Liveness-Speechiness : -0.04779984409695841\n",
      "Popularity X Liveness-Loudness : 0.02471364978758898\n",
      "Popularity X Liveness-Energy : 0.026308050466835046\n",
      "Popularity X Liveness-Danceability : 0.07337935750337023\n",
      "Popularity X Instrumentalness-Acousticness : 0.06193691442945109\n",
      "Popularity X Instrumentalness-Loudness : 0.030663813691074703\n",
      "Popularity X Instrumentalness-Energy : 0.014155326129641998\n",
      "Popularity X Instrumentalness-Danceability : 0.04651307123149279\n",
      "Popularity X Acousticness-Speechiness : -0.09589589582843638\n",
      "Popularity X Acousticness-Loudness : 0.043870668730527446\n",
      "Popularity X Acousticness-Energy : 0.09081672672348781\n",
      "Popularity X Acousticness-Danceability : 0.06751368088898545\n",
      "Popularity X Speechiness-Loudness : -0.004848973197268338\n",
      "Popularity X Speechiness-Energy : 0.0004913204674745928\n",
      "Popularity X Loudness-Energy : 0.07106868748880356\n",
      "Popularity X Loudness-Danceability : 0.04723501703528368\n",
      "Popularity X Energy-Danceability : 0.045854489867360355\n"
     ]
    }
   ],
   "source": [
    "print(\"All Songs Pearson Correlation\")\n",
    "for i in range(4,49):\n",
    "    corr = pearson_correlarion(corr_arr_of_dataframes[0],corr_fieldnames[2],corr_fieldnames[i])\n",
    "    print(corr_fieldnames[2],'X',corr_fieldnames[i],':',corr)"
   ]
  },
  {
   "cell_type": "code",
   "execution_count": 37,
   "id": "d7d22efd",
   "metadata": {},
   "outputs": [
    {
     "name": "stdout",
     "output_type": "stream",
     "text": [
      "All Songs Kendalltau\n",
      "Popularity X Duration MS : 0.11360667446903251\n",
      "Popularity X Tempo : 0.004597909253384116\n",
      "Popularity X Valence : -0.09718594788645554\n",
      "Popularity X Liveness : 0.004027930958312773\n",
      "Popularity X Instrumentalness : -0.042811920093536474\n",
      "Popularity X Acousticness : 0.023665665851023195\n",
      "Popularity X Speechiness : -0.015062497188199365\n",
      "Popularity X Loudness : 0.0622633544729099\n",
      "Popularity X Key : 0.04777652064952468\n",
      "Popularity X Mode : 0.0033226520646052293\n",
      "Popularity X Energy : 0.02951301317357545\n",
      "Popularity X Danceability : 0.0396211244235789\n",
      "Popularity X Tempo-Valence : -0.02557707865447702\n",
      "Popularity X Tempo-Liveness : 0.03161211968530868\n",
      "Popularity X Tempo-Instrumentalness : -0.042912023202797404\n",
      "Popularity X Tempo-Acousticness : 0.041287344195054664\n",
      "Popularity X Tempo-Speechiness : 0.018679888904955127\n",
      "Popularity X Tempo-Loudness : 0.02136212936310253\n",
      "Popularity X Tempo-Energy : 0.03975463536182758\n",
      "Popularity X Tempo-Danceability : 0.041287344195054664\n",
      "Popularity X Valence-Liveness : -0.014273351009427252\n",
      "Popularity X Valence-Acousticness : 0.029217262133391354\n",
      "Popularity X Valence-Speechiness : -0.04598343776775284\n",
      "Popularity X Valence-Loudness : -0.037647160716140333\n",
      "Popularity X Valence-Energy : -0.02979202794585151\n",
      "Popularity X Valence-Danceability : -0.035731274674606475\n",
      "Popularity X Liveness-Instrumentalness : -0.05233423354804169\n",
      "Popularity X Liveness-Acousticness : 0.0476097681321164\n",
      "Popularity X Liveness-Speechiness : 0.0004789715103834648\n",
      "Popularity X Liveness-Loudness : 0.03094155957077183\n",
      "Popularity X Liveness-Energy : 0.03592286327875986\n",
      "Popularity X Liveness-Danceability : 0.04952565417365026\n",
      "Popularity X Instrumentalness-Acousticness : -0.007702812639559655\n",
      "Popularity X Instrumentalness-Loudness : -0.054125096813972505\n",
      "Popularity X Instrumentalness-Energy : -0.0365626839957765\n",
      "Popularity X Instrumentalness-Danceability : -0.03461130479375472\n",
      "Popularity X Acousticness-Speechiness : 0.03477333165383954\n",
      "Popularity X Acousticness-Loudness : 0.04569388209058255\n",
      "Popularity X Acousticness-Energy : 0.07500693852605059\n",
      "Popularity X Acousticness-Danceability : 0.055848078110712\n",
      "Popularity X Speechiness-Loudness : -0.006801395447445201\n",
      "Popularity X Speechiness-Energy : 0.0072807109798942\n",
      "Popularity X Loudness-Energy : 0.037647160716140333\n",
      "Popularity X Loudness-Danceability : 0.057189198339785696\n",
      "Popularity X Energy-Danceability : 0.0204041863423356\n"
     ]
    }
   ],
   "source": [
    "print(\"All Songs Kendalltau\")\n",
    "for i in range(4,49):\n",
    "    corr = kendalltau_correlation(corr_arr_of_dataframes[0],corr_fieldnames[2],corr_fieldnames[i])\n",
    "    print(corr_fieldnames[2],'X',corr_fieldnames[i],':',corr)"
   ]
  },
  {
   "cell_type": "code",
   "execution_count": 22,
   "id": "d33c1d07",
   "metadata": {},
   "outputs": [],
   "source": [
    "# print(\"BD Songs Pearcon\")\n",
    "# for i in range(4,16):\n",
    "#     corr = pearcon_correlarion(corr_arr_of_dataframes[1],corr_fieldnames[2],corr_fieldnames[i])\n",
    "#     print(corr_fieldnames[2],'X',corr_fieldnames[i],':',corr)"
   ]
  },
  {
   "cell_type": "code",
   "execution_count": 23,
   "id": "678b4b48",
   "metadata": {},
   "outputs": [],
   "source": [
    "# print(\"BD Songs Kendalltau\")\n",
    "# for i in range(4,16):\n",
    "#     corr = kendalltau_correlation(corr_arr_of_dataframes[1],corr_fieldnames[2],corr_fieldnames[i])\n",
    "#     print(corr_fieldnames[2],'X',corr_fieldnames[i],':',corr)"
   ]
  },
  {
   "cell_type": "code",
   "execution_count": 24,
   "id": "20315025",
   "metadata": {},
   "outputs": [],
   "source": [
    "# print(\"IND Songs Pearcon\")\n",
    "# for i in range(4,16):\n",
    "#     corr = pearcon_correlarion(corr_arr_of_dataframes[2],corr_fieldnames[2],corr_fieldnames[i])\n",
    "#     print(corr_fieldnames[2],'X',corr_fieldnames[i],':',corr)"
   ]
  },
  {
   "cell_type": "code",
   "execution_count": 25,
   "id": "d1e9a511",
   "metadata": {},
   "outputs": [],
   "source": [
    "# print(\"IND Songs Kendalltau\")\n",
    "# for i in range(4,16):\n",
    "#     corr = kendalltau_correlation(corr_arr_of_dataframes[2],corr_fieldnames[2],corr_fieldnames[i])\n",
    "#     print(corr_fieldnames[2],'X',corr_fieldnames[i],':',corr)"
   ]
  }
 ],
 "metadata": {
  "kernelspec": {
   "display_name": "Python 3 (ipykernel)",
   "language": "python",
   "name": "python3"
  },
  "language_info": {
   "codemirror_mode": {
    "name": "ipython",
    "version": 3
   },
   "file_extension": ".py",
   "mimetype": "text/x-python",
   "name": "python",
   "nbconvert_exporter": "python",
   "pygments_lexer": "ipython3",
   "version": "3.10.7"
  }
 },
 "nbformat": 4,
 "nbformat_minor": 5
}
