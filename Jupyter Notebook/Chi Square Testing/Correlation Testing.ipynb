{
 "cells": [
  {
   "cell_type": "code",
   "execution_count": 12,
   "id": "c6c87038",
   "metadata": {},
   "outputs": [],
   "source": [
    "import os\n",
    "import math\n",
    "import re\n",
    "import statistics\n",
    "import pandas as pd\n",
    "import seaborn as sns\n",
    "import numpy as np\n",
    "from scipy.stats import pearsonr\n",
    "from scipy.stats import kendalltau"
   ]
  },
  {
   "cell_type": "code",
   "execution_count": 13,
   "id": "b25534e1",
   "metadata": {},
   "outputs": [],
   "source": [
    "corr_fieldnames = [\n",
    "                    'Country', \n",
    "                    'Song Name', \n",
    "                    'Popularity', \n",
    "                    'Time Signature', \n",
    "                    'Duration MS', \n",
    "                    'Tempo', \n",
    "                    'Valence', \n",
    "                    'Liveness', \n",
    "                    'Instrumentalness', \n",
    "                    'Acousticness', 'Speechiness', \n",
    "                    'Loudness', \n",
    "                    'Key', \n",
    "                    'Mode', \n",
    "                    'Energy', \n",
    "                    'Danceability', \n",
    "                    'Energy-Loudness', \n",
    "                    'Energy-Speechiness', \n",
    "                    'Energy-Valence', \n",
    "                    'Energy-Liveness', \n",
    "                    'Energy-Tempo', \n",
    "                    'Acousticness-Mode', \n",
    "                    'Acousticness-Instrumentalness', \n",
    "                    'Acousticness-Danceability', \n",
    "                    'Danceability-Valence', \n",
    "                    'Danceability-Key', \n",
    "                    'Danceability-Mode', \n",
    "                    'Danceability-Loudness', \n",
    "                    'Danceability-Time Signature', \n",
    "                    'Loudness-Speechiness', \n",
    "                    'Loudness-Valence', \n",
    "                    'Loudness-Liveness', \n",
    "                    'Loudness-Key', \n",
    "                    'Loudness-Mode', \n",
    "                    'Loudness-Tempo', \n",
    "                    'Loudness-Time Signature', \n",
    "                    'Loudness-Duration MS', \n",
    "                    'Valence-Speechiness', \n",
    "                    'Valence-Key', \n",
    "                    'Valence-Liveness', \n",
    "                    'Valence-Tempo', \n",
    "                    'Valence-Time Signature', \n",
    "                    'Speechiness-Liveness', \n",
    "                    'Speechiness-Tempo', \n",
    "                    'Liveness-Tempo', \n",
    "                    'Liveness-Key', \n",
    "                    'Instrumentalness-Mode', \n",
    "                    'Tempo-Duration MS', \n",
    "                    'Key-Mode', \n",
    "                    'Key-Duration MS', \n",
    "                    'Key-Time Signature', \n",
    "                    'Duration MS-Time Signature'\n",
    "                   ]"
   ]
  },
  {
   "cell_type": "code",
   "execution_count": 2,
   "id": "72e0fc34",
   "metadata": {},
   "outputs": [],
   "source": [
    "scaled_all_backup_csv_path = '../backup_csv/scaled_backup_all_song_features_csv.csv'\n",
    "scaled_bangladesh_backup_csv_path = '../backup_csv/scaled_backup_bangladesh_song_features_csv.csv'\n",
    "scaled_kolkata_backup_csv_path = '../backup_csv/scaled_backup_kolkata_song_features_csv.csv'\n",
    "\n",
    "alls = pd.read_csv(scaled_all_backup_csv_path)\n",
    "bd = pd.read_csv(scaled_bangladesh_backup_csv_path)\n",
    "ind = pd.read_csv(scaled_kolkata_backup_csv_path)"
   ]
  },
  {
   "cell_type": "code",
   "execution_count": 3,
   "id": "dd9859ba",
   "metadata": {},
   "outputs": [],
   "source": [
    "scaled_all_song_correlated_features_csv_path = '../correlated_csv/scaled_all_song_correlated_features_csv.csv'\n",
    "scaled_bangladesh_song_correlated_features_csv_path = '../correlated_csv/scaled_bangladesh_song_correlated_features_csv.csv'\n",
    "scaled_kolkata_song_correlated_features_csv_path = '../correlated_csv/scaled_kolkata_song_correlated_features_csv.csv'\n",
    "\n",
    "corr_alls = pd.read_csv(scaled_all_song_correlated_features_csv_path)\n",
    "corr_bd = pd.read_csv(scaled_bangladesh_song_correlated_features_csv_path)\n",
    "corr_ind = pd.read_csv(scaled_kolkata_song_correlated_features_csv_path)"
   ]
  },
  {
   "cell_type": "code",
   "execution_count": 7,
   "id": "1e5cc66c",
   "metadata": {},
   "outputs": [],
   "source": [
    "def pearcon_correlarion(df,key_name1,key_name2):\n",
    "    corr, _ = pearsonr(df[key_name1], df[key_name2])\n",
    "    return corr"
   ]
  },
  {
   "cell_type": "code",
   "execution_count": 8,
   "id": "ecdb0c08",
   "metadata": {},
   "outputs": [],
   "source": [
    "def kendalltau_correlation(df,key_name1,key_name2):\n",
    "    corr, _ = kendalltau(df[key_name1], df[key_name2])\n",
    "    return corr"
   ]
  },
  {
   "cell_type": "code",
   "execution_count": 9,
   "id": "9c3b112d",
   "metadata": {},
   "outputs": [],
   "source": [
    "corr_arr_of_dataframes = [corr_alls,corr_bd,corr_ind]"
   ]
  },
  {
   "cell_type": "code",
   "execution_count": 17,
   "id": "82249dca",
   "metadata": {},
   "outputs": [
    {
     "name": "stdout",
     "output_type": "stream",
     "text": [
      "All Songs Pearcon\n",
      "Popularity X Duration MS : 0.11167250312376391\n",
      "Popularity X Tempo : 0.0017356501251653254\n",
      "Popularity X Valence : -0.12962150974682113\n",
      "Popularity X Liveness : 0.014026266746400305\n",
      "Popularity X Instrumentalness : 0.046306053662060614\n",
      "Popularity X Acousticness : -0.020712191183934178\n",
      "Popularity X Speechiness : -0.032852974600730146\n",
      "Popularity X Loudness : 0.07689787158153406\n",
      "Popularity X Key : 0.07843200073415785\n",
      "Popularity X Mode : -0.001208273148365844\n",
      "Popularity X Energy : 0.06936849925032981\n",
      "Popularity X Danceability : 0.04707612507413757\n"
     ]
    }
   ],
   "source": [
    "print(\"All Songs Pearcon\")\n",
    "for i in range(4,16):\n",
    "    corr = pearcon_correlarion(corr_arr_of_dataframes[0],corr_fieldnames[2],corr_fieldnames[i])\n",
    "    print(corr_fieldnames[2],'X',corr_fieldnames[i],':',corr)"
   ]
  },
  {
   "cell_type": "code",
   "execution_count": 15,
   "id": "5d9c48c2",
   "metadata": {},
   "outputs": [
    {
     "name": "stdout",
     "output_type": "stream",
     "text": [
      "All Songs Kendalltau\n",
      "Popularity X Duration MS : 0.11360667446903251\n",
      "Popularity X Tempo : 0.004597909253384116\n",
      "Popularity X Valence : -0.09718594788645554\n",
      "Popularity X Liveness : 0.004027930958312773\n",
      "Popularity X Instrumentalness : -0.042811920093536474\n",
      "Popularity X Acousticness : 0.023665665851023195\n",
      "Popularity X Speechiness : -0.015062497188199365\n",
      "Popularity X Loudness : 0.0622633544729099\n",
      "Popularity X Key : 0.04777652064952468\n",
      "Popularity X Mode : 0.0033226520646052293\n",
      "Popularity X Energy : 0.02951301317357545\n",
      "Popularity X Danceability : 0.0396211244235789\n"
     ]
    }
   ],
   "source": [
    "print(\"All Songs Kendalltau\")\n",
    "for i in range(4,16):\n",
    "    corr = kendalltau_correlation(corr_arr_of_dataframes[0],corr_fieldnames[2],corr_fieldnames[i])\n",
    "    print(corr_fieldnames[2],'X',corr_fieldnames[i],':',corr)"
   ]
  },
  {
   "cell_type": "code",
   "execution_count": 18,
   "id": "6c7297cb",
   "metadata": {},
   "outputs": [
    {
     "name": "stdout",
     "output_type": "stream",
     "text": [
      "BD Songs Pearcon\n",
      "Popularity X Duration MS : 0.14068596515924028\n",
      "Popularity X Tempo : -0.050374992603946823\n",
      "Popularity X Valence : -0.05753671790734723\n",
      "Popularity X Liveness : -0.09884148766254672\n",
      "Popularity X Instrumentalness : 0.004282608859382911\n",
      "Popularity X Acousticness : 0.2930961518487824\n",
      "Popularity X Speechiness : -0.19271156790564195\n",
      "Popularity X Loudness : -0.2059167895809701\n",
      "Popularity X Key : 0.05277038129960612\n",
      "Popularity X Mode : 0.12446720403576411\n",
      "Popularity X Energy : -0.174094109393799\n",
      "Popularity X Danceability : 0.1663831857116844\n"
     ]
    }
   ],
   "source": [
    "print(\"BD Songs Pearcon\")\n",
    "for i in range(4,16):\n",
    "    corr = pearcon_correlarion(corr_arr_of_dataframes[1],corr_fieldnames[2],corr_fieldnames[i])\n",
    "    print(corr_fieldnames[2],'X',corr_fieldnames[i],':',corr)"
   ]
  },
  {
   "cell_type": "code",
   "execution_count": 19,
   "id": "945b9043",
   "metadata": {},
   "outputs": [
    {
     "name": "stdout",
     "output_type": "stream",
     "text": [
      "BD Songs Kendalltau\n",
      "Popularity X Duration MS : 0.10957842368331298\n",
      "Popularity X Tempo : -0.05846763949180304\n",
      "Popularity X Valence : -0.051517601647459936\n",
      "Popularity X Liveness : -0.046147466344033834\n",
      "Popularity X Instrumentalness : -0.06917179402816766\n",
      "Popularity X Acousticness : 0.21489761535066682\n",
      "Popularity X Speechiness : -0.059332456728043506\n",
      "Popularity X Loudness : -0.0894438723351424\n",
      "Popularity X Key : 0.042922796893927806\n",
      "Popularity X Mode : 0.09953903718246176\n",
      "Popularity X Energy : -0.09335144358675072\n",
      "Popularity X Danceability : 0.12831077639823335\n"
     ]
    }
   ],
   "source": [
    "print(\"BD Songs Kendalltau\")\n",
    "for i in range(4,16):\n",
    "    corr = kendalltau_correlation(corr_arr_of_dataframes[1],corr_fieldnames[2],corr_fieldnames[i])\n",
    "    print(corr_fieldnames[2],'X',corr_fieldnames[i],':',corr)"
   ]
  },
  {
   "cell_type": "code",
   "execution_count": 20,
   "id": "24a7d5fc",
   "metadata": {},
   "outputs": [
    {
     "name": "stdout",
     "output_type": "stream",
     "text": [
      "IND Songs Pearcon\n",
      "Popularity X Duration MS : 0.12429557674696753\n",
      "Popularity X Tempo : -0.023724731817645832\n",
      "Popularity X Valence : -0.15023963314100805\n",
      "Popularity X Liveness : 0.07271664898302882\n",
      "Popularity X Instrumentalness : -0.016867428753039922\n",
      "Popularity X Acousticness : -0.14323746412340715\n",
      "Popularity X Speechiness : 0.07507164847528021\n",
      "Popularity X Loudness : 0.18376225071002886\n",
      "Popularity X Key : 0.15101918206828113\n",
      "Popularity X Mode : -0.0882248382183587\n",
      "Popularity X Energy : 0.1744767240408974\n",
      "Popularity X Danceability : 0.07582278030102829\n"
     ]
    }
   ],
   "source": [
    "print(\"IND Songs Pearcon\")\n",
    "for i in range(4,16):\n",
    "    corr = pearcon_correlarion(corr_arr_of_dataframes[2],corr_fieldnames[2],corr_fieldnames[i])\n",
    "    print(corr_fieldnames[2],'X',corr_fieldnames[i],':',corr)"
   ]
  },
  {
   "cell_type": "code",
   "execution_count": 21,
   "id": "ee52ea72",
   "metadata": {},
   "outputs": [
    {
     "name": "stdout",
     "output_type": "stream",
     "text": [
      "IND Songs Kendalltau\n",
      "Popularity X Duration MS : 0.15080666937960246\n",
      "Popularity X Tempo : -0.009233061390587905\n",
      "Popularity X Valence : -0.11699665564948\n",
      "Popularity X Liveness : 0.030421124641418294\n",
      "Popularity X Instrumentalness : -0.05113030345666611\n",
      "Popularity X Acousticness : -0.08657643029903121\n",
      "Popularity X Speechiness : 0.03196143474984454\n",
      "Popularity X Loudness : 0.12541575055548573\n",
      "Popularity X Key : 0.12187868996775622\n",
      "Popularity X Mode : -0.05465670559868272\n",
      "Popularity X Energy : 0.10085185572083742\n",
      "Popularity X Danceability : 0.05396232984387949\n"
     ]
    }
   ],
   "source": [
    "print(\"IND Songs Kendalltau\")\n",
    "for i in range(4,16):\n",
    "    corr = kendalltau_correlation(corr_arr_of_dataframes[2],corr_fieldnames[2],corr_fieldnames[i])\n",
    "    print(corr_fieldnames[2],'X',corr_fieldnames[i],':',corr)"
   ]
  },
  {
   "cell_type": "code",
   "execution_count": null,
   "id": "4b1ba733",
   "metadata": {},
   "outputs": [],
   "source": []
  }
 ],
 "metadata": {
  "kernelspec": {
   "display_name": "Python 3 (ipykernel)",
   "language": "python",
   "name": "python3"
  },
  "language_info": {
   "codemirror_mode": {
    "name": "ipython",
    "version": 3
   },
   "file_extension": ".py",
   "mimetype": "text/x-python",
   "name": "python",
   "nbconvert_exporter": "python",
   "pygments_lexer": "ipython3",
   "version": "3.10.7"
  }
 },
 "nbformat": 4,
 "nbformat_minor": 5
}
