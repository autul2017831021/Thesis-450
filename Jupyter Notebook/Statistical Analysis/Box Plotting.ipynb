{
 "cells": [
  {
   "cell_type": "code",
   "execution_count": 1,
   "id": "785de538",
   "metadata": {},
   "outputs": [],
   "source": [
    "import os\n",
    "import math\n",
    "import re\n",
    "import statistics\n",
    "import pandas as pd\n",
    "import seaborn as sns\n",
    "import numpy as np\n",
    "import matplotlib.pyplot as plt\n",
    "%matplotlib inline\n",
    "from itertools import product\n",
    "\n",
    "#For proper display of all columns\n",
    "from IPython.display import display\n",
    "pd.options.display.max_columns = None\n",
    "\n",
    "import warnings\n",
    "warnings.filterwarnings(\"ignore\")\n",
    "import gc\n",
    "\n",
    "from statsmodels.stats.outliers_influence import variance_inflation_factor\n",
    "import statsmodels.api as sm\n",
    "\n",
    "import scipy.stats as stats\n",
    "\n",
    "from sklearn.model_selection import train_test_split,GridSearchCV\n",
    "from sklearn.metrics import mean_squared_error\n",
    "from sklearn.ensemble import RandomForestRegressor\n",
    "\n",
    "from catboost import CatBoostRegressor, Pool"
   ]
  },
  {
   "cell_type": "code",
   "execution_count": 15,
   "id": "a51ed654",
   "metadata": {},
   "outputs": [],
   "source": [
    "scaled_all_song_correlated_features_csv_path = '../correlated_csv/scaled_all_song_correlated_features_csv.csv'\n",
    "scaled_bangladesh_song_correlated_features_csv_path = '../correlated_csv/scaled_bangladesh_song_correlated_features_csv.csv'\n",
    "scaled_kolkata_song_correlated_features_csv_path = '../correlated_csv/scaled_kolkata_song_correlated_features_csv.csv'"
   ]
  },
  {
   "cell_type": "code",
   "execution_count": 16,
   "id": "bc51101a",
   "metadata": {},
   "outputs": [],
   "source": [
    "corr_alls = pd.read_csv(scaled_all_song_correlated_features_csv_path)\n",
    "corr_bd = pd.read_csv(scaled_bangladesh_song_correlated_features_csv_path)\n",
    "corr_ind = pd.read_csv(scaled_kolkata_song_correlated_features_csv_path)"
   ]
  },
  {
   "cell_type": "code",
   "execution_count": 17,
   "id": "f516169d",
   "metadata": {},
   "outputs": [],
   "source": [
    "corr_bd_popularity = corr_bd['Popularity']\n",
    "corr_bd_time_signature = corr_bd['Time Signature']\n",
    "corr_bd_duration_ms = corr_bd['Duration MS']\n",
    "corr_bd_tempo = corr_bd['Tempo']\n",
    "corr_bd_valencs = corr_bd['Valence']\n",
    "corr_bd_livenss = corr_bd['Liveness']\n",
    "corr_bd_instrumentalness = corr_bd['Instrumentalness']\n",
    "corr_bd_acousticness = corr_bd['Acousticness']\n",
    "corr_bd_speechiness = corr_bd['Speechiness']\n",
    "corr_bd_loudness = corr_bd['Loudness']\n",
    "corr_bd_key = corr_bd['Key']          \n",
    "corr_bd_mode = corr_bd['Mode']\n",
    "corr_bd_energy = corr_bd['Energy'] \n",
    "corr_bd_danceability = corr_bd['Danceability']"
   ]
  },
  {
   "cell_type": "code",
   "execution_count": 18,
   "id": "424c1012",
   "metadata": {},
   "outputs": [],
   "source": [
    "corr_ind_popularity = corr_ind['Popularity']\n",
    "corr_ind_time_signature = corr_ind['Time Signature']\n",
    "corr_ind_duration_ms = corr_ind['Duration MS']\n",
    "corr_ind_tempo = corr_ind['Tempo']\n",
    "corr_ind_valencs = corr_ind['Valence']\n",
    "corr_ind_livenss = corr_ind['Liveness']\n",
    "corr_ind_instrumentalness = corr_ind['Instrumentalness']\n",
    "corr_ind_acousticness = corr_ind['Acousticness']\n",
    "corr_ind_speechiness = corr_ind['Speechiness']\n",
    "corr_ind_loudness = corr_ind['Loudness']\n",
    "corr_ind_key = corr_ind['Key']          \n",
    "corr_ind_mode = corr_ind['Mode']\n",
    "corr_ind_energy = corr_ind['Energy'] \n",
    "corr_ind_danceability = corr_ind['Danceability'] "
   ]
  },
  {
   "cell_type": "code",
   "execution_count": 19,
   "id": "95ee0cf1",
   "metadata": {},
   "outputs": [],
   "source": [
    "def boxplot(data1,data2,y_label,x_label1,x_label2):\n",
    "    plt.boxplot([data1, data2])\n",
    "    \n",
    "    mean1 = sum(data1) / len(data1)\n",
    "    median1 = statistics.median(data1)\n",
    "    mode1 = statistics.mode(data1)\n",
    "    \n",
    "    mean2 = sum(data2) / len(data2)\n",
    "    median2 = statistics.median(data2)\n",
    "    mode2 = statistics.mode(data2)\n",
    "    \n",
    "    print(x_label1,' : ',mean1,',',median1,',',mode1)\n",
    "    print(x_label2,' : ',mean2,',',median2,',',mode2)\n",
    "    # set the title and y-axis label\n",
    "    plt.title('Comparison')\n",
    "    plt.ylabel(y_label)\n",
    "\n",
    "    # set x-axis labels\n",
    "    plt.xticks([1, 2], [x_label1, x_label2])\n",
    "\n",
    "    # display the plot\n",
    "    plt.show()"
   ]
  },
  {
   "cell_type": "code",
   "execution_count": 20,
   "id": "3f3c67e7",
   "metadata": {},
   "outputs": [
    {
     "name": "stdout",
     "output_type": "stream",
     "text": [
      "bd danceability  :  0.47854202268137325 , 0.48328025477707004 , 0.7420382165605097\n",
      "ind danceability  :  0.47735175375137107 , 0.4804088586030666 , 0.3253833049403749\n"
     ]
    },
    {
     "data": {
      "image/png": "[encoded data removed]",
      "text/plain": [
       "<Figure size 640x480 with 1 Axes>"
      ]
     },
     "metadata": {},
     "output_type": "display_data"
    }
   ],
   "source": [
    "boxplot(corr_bd_danceability,corr_ind_danceability,'Danceability','bd danceability','ind danceability')"
   ]
  },
  {
   "cell_type": "code",
   "execution_count": null,
   "id": "cb9c0f23",
   "metadata": {},
   "outputs": [],
   "source": [
    "boxplot(bd_danceability,ind_danceability,'Danceability','bd danceability','ind danceability')"
   ]
  },
  {
   "cell_type": "code",
   "execution_count": null,
   "id": "ae5a5a90",
   "metadata": {},
   "outputs": [],
   "source": []
  },
  {
   "cell_type": "code",
   "execution_count": null,
   "id": "e5f7ee90",
   "metadata": {},
   "outputs": [],
   "source": []
  },
  {
   "cell_type": "code",
   "execution_count": null,
   "id": "cfbfec83",
   "metadata": {},
   "outputs": [],
   "source": []
  },
  {
   "cell_type": "code",
   "execution_count": null,
   "id": "e1a89905",
   "metadata": {},
   "outputs": [],
   "source": []
  },
  {
   "cell_type": "code",
   "execution_count": null,
   "id": "f45a57b0",
   "metadata": {},
   "outputs": [],
   "source": []
  },
  {
   "cell_type": "code",
   "execution_count": null,
   "id": "e364c216",
   "metadata": {},
   "outputs": [],
   "source": []
  },
  {
   "cell_type": "code",
   "execution_count": null,
   "id": "fc0e5ab2",
   "metadata": {},
   "outputs": [],
   "source": []
  },
  {
   "cell_type": "code",
   "execution_count": null,
   "id": "95cc0ea7",
   "metadata": {},
   "outputs": [],
   "source": []
  },
  {
   "cell_type": "code",
   "execution_count": null,
   "id": "79fe1310",
   "metadata": {},
   "outputs": [],
   "source": []
  },
  {
   "cell_type": "code",
   "execution_count": null,
   "id": "ccc366fb",
   "metadata": {},
   "outputs": [],
   "source": []
  },
  {
   "cell_type": "code",
   "execution_count": null,
   "id": "e0ba2ce2",
   "metadata": {},
   "outputs": [],
   "source": []
  },
  {
   "cell_type": "code",
   "execution_count": null,
   "id": "c54ff803",
   "metadata": {},
   "outputs": [],
   "source": []
  },
  {
   "cell_type": "code",
   "execution_count": null,
   "id": "227e37d5",
   "metadata": {},
   "outputs": [],
   "source": []
  },
  {
   "cell_type": "code",
   "execution_count": 14,
   "id": "9b3c19f5",
   "metadata": {},
   "outputs": [
    {
     "data": {
      "image/png": "[encoded data removed]",
      "text/plain": [
       "<Figure size 640x480 with 1 Axes>"
      ]
     },
     "metadata": {},
     "output_type": "display_data"
    }
   ],
   "source": [
    "data1 = np.random.normal(loc=0, scale=1, size=100)\n",
    "data2 = np.random.normal(loc=2, scale=1, size=100)\n",
    "\n",
    "# calculate the mode of data1\n",
    "mode_val = statistics.mode(data1)\n",
    "\n",
    "# create a histogram of data1 and data2\n",
    "plt.hist([data1, data2], bins=10, label=['Data 1', 'Data 2'])\n",
    "\n",
    "# annotate the mode value on the chart\n",
    "plt.axvline(mode_val, color='r', linestyle='--', linewidth=2, label='Mode of Data 1')\n",
    "plt.annotate('Mode = {:.2f}'.format(mode_val), xy=(mode_val + 0.1, 10), color='r')\n",
    "\n",
    "# set the title and x/y-axis labels\n",
    "plt.title('Bar Chart Example with Mode Value')\n",
    "plt.xlabel('Value')\n",
    "plt.ylabel('Frequency')\n",
    "plt.legend()\n",
    "\n",
    "# display the plot\n",
    "plt.show()\n"
   ]
  }
 ],
 "metadata": {
  "kernelspec": {
   "display_name": "Python 3 (ipykernel)",
   "language": "python",
   "name": "python3"
  },
  "language_info": {
   "codemirror_mode": {
    "name": "ipython",
    "version": 3
   },
   "file_extension": ".py",
   "mimetype": "text/x-python",
   "name": "python",
   "nbconvert_exporter": "python",
   "pygments_lexer": "ipython3",
   "version": "3.10.7"
  }
 },
 "nbformat": 4,
 "nbformat_minor": 5
}
