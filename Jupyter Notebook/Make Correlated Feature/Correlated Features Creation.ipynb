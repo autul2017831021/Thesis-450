{
 "cells": [
  {
   "cell_type": "code",
   "execution_count": 11,
   "id": "5270f4eb",
   "metadata": {},
   "outputs": [],
   "source": [
    "import csv\n",
    "import os\n",
    "import json\n",
    "from collections import Counter\n",
    "import pandas as pd"
   ]
  },
  {
   "cell_type": "code",
   "execution_count": 12,
   "id": "77811b30",
   "metadata": {},
   "outputs": [],
   "source": [
    "fieldnames = [\"Country\",\n",
    "              \"Song Name\",\n",
    "              \"Popularity\",\n",
    "              \"Time Signature\",\n",
    "              \"Duration MS\",\n",
    "              \"Tempo\",\n",
    "              \"Valence\",\n",
    "              \"Liveness\",\n",
    "              \"Instrumentalness\",\n",
    "              \"Acousticness\",\n",
    "              \"Speechiness\",\n",
    "              \"Loudness\",\n",
    "              \"Key\",\n",
    "              \"Mode\",\n",
    "              \"Energy\",\n",
    "              \"Danceability\"]"
   ]
  },
  {
   "cell_type": "code",
   "execution_count": 13,
   "id": "ca831763",
   "metadata": {},
   "outputs": [],
   "source": [
    "scaled_all_backup_csv_path = '../backup_csv/scaled_backup_all_song_features_csv.csv'\n",
    "scaled_bangladesh_backup_csv_path = '../backup_csv/scaled_backup_bangladesh_song_features_csv.csv'\n",
    "scaled_kolkata_backup_csv_path = '../backup_csv/scaled_backup_kolkata_song_features_csv.csv'"
   ]
  },
  {
   "cell_type": "code",
   "execution_count": 14,
   "id": "fb04acf8",
   "metadata": {},
   "outputs": [],
   "source": [
    "scaled_all_song_correlated_features_csv_path = '../correlated_csv/scaled_all_song_correlated_features_csv.csv'\n",
    "scaled_bangladesh_song_correlated_features_csv_path = '../correlated_csv/scaled_bangladesh_song_correlated_features_csv.csv'\n",
    "scaled_kolkata_song_correlated_features_csv_path = '../correlated_csv/scaled_kolkata_song_correlated_features_csv.csv'"
   ]
  },
  {
   "cell_type": "code",
   "execution_count": 15,
   "id": "b5e47d2a",
   "metadata": {},
   "outputs": [],
   "source": [
    "def df_to_csv(dataframe,new_file):\n",
    "    dataframe.to_csv(new_file, index=False)"
   ]
  },
  {
   "cell_type": "code",
   "execution_count": 16,
   "id": "9f503ed6",
   "metadata": {},
   "outputs": [],
   "source": [
    "def make_correlated_feature(dataframe,new_file):\n",
    "    dataframe['Energy-Loudness'] = dataframe['Energy'] * dataframe['Loudness']\n",
    "    dataframe['Energy-Speechiness'] = dataframe['Energy'] * dataframe['Speechiness']\n",
    "    dataframe['Energy-Valence'] = dataframe['Energy'] * dataframe['Valence']\n",
    "    dataframe['Energy-Liveness'] = dataframe['Energy'] * dataframe['Liveness']\n",
    "    dataframe['Energy-Tempo'] = dataframe['Energy'] * dataframe['Tempo']\n",
    "    dataframe['Acousticness-Mode'] = dataframe['Acousticness'] * dataframe['Mode']\n",
    "    dataframe['Acousticness-Instrumentalness'] = dataframe['Acousticness'] * dataframe['Instrumentalness']\n",
    "    dataframe['Acousticness-Danceability'] = dataframe['Acousticness'] * dataframe['Danceability']\n",
    "    dataframe['Danceability-Valence'] = dataframe['Danceability'] * dataframe['Valence']\n",
    "    dataframe['Danceability-Key'] = dataframe['Danceability'] * dataframe['Key']\n",
    "    dataframe['Danceability-Mode'] = dataframe['Danceability'] * dataframe['Mode']\n",
    "    dataframe['Danceability-Loudness'] = dataframe['Danceability'] * dataframe['Loudness']\n",
    "    dataframe['Danceability-Time Signature'] = dataframe['Danceability'] * dataframe['Time Signature']\n",
    "    dataframe['Loudness-Speechiness'] = dataframe['Loudness'] * dataframe['Speechiness']\n",
    "    dataframe['Loudness-Valence'] = dataframe['Loudness'] * dataframe['Valence']\n",
    "    dataframe['Loudness-Liveness'] = dataframe['Loudness'] * dataframe['Liveness']\n",
    "    dataframe['Loudness-Key'] = dataframe['Loudness'] * dataframe['Key']\n",
    "    dataframe['Loudness-Mode'] = dataframe['Loudness'] * dataframe['Mode']\n",
    "    dataframe['Loudness-Tempo'] = dataframe['Loudness'] * dataframe['Tempo']\n",
    "    dataframe['Loudness-Time Signature'] = dataframe['Loudness'] * dataframe['Time Signature']\n",
    "    dataframe['Loudness-Duration MS'] = dataframe['Loudness'] * dataframe['Duration MS']\n",
    "    dataframe['Valence-Speechiness'] = dataframe['Valence'] * dataframe['Speechiness']\n",
    "    dataframe['Valence-Key'] = dataframe['Valence'] * dataframe['Key']\n",
    "    dataframe['Valence-Liveness'] = dataframe['Valence'] * dataframe['Liveness']\n",
    "    dataframe['Valence-Tempo'] = dataframe['Valence'] * dataframe['Tempo']\n",
    "    dataframe['Valence-Time Signature'] = dataframe['Valence'] * dataframe['Time Signature']\n",
    "    dataframe['Speechiness-Liveness'] = dataframe['Speechiness'] * dataframe['Liveness']\n",
    "    dataframe['Speechiness-Tempo'] = dataframe['Speechiness'] * dataframe['Tempo']\n",
    "    dataframe['Liveness-Tempo'] = dataframe['Liveness'] * dataframe['Tempo']\n",
    "    dataframe['Liveness-Key'] = dataframe['Liveness'] * dataframe['Key']\n",
    "    dataframe['Instrumentalness-Mode'] = dataframe['Instrumentalness'] * dataframe['Mode']\n",
    "    dataframe['Tempo-Duration MS'] = dataframe['Tempo'] * dataframe['Duration MS']\n",
    "    dataframe['Key-Mode'] = dataframe['Key'] * dataframe['Mode']\n",
    "    dataframe['Key-Duration MS'] = dataframe['Key'] * dataframe['Duration MS']\n",
    "    dataframe['Key-Time Signature'] = dataframe['Key'] * dataframe['Time Signature']\n",
    "    dataframe['Duration MS-Time Signature'] = dataframe['Duration MS'] * dataframe['Time Signature']\n",
    "    df_to_csv(dataframe,new_file)"
   ]
  },
  {
   "cell_type": "code",
   "execution_count": 17,
   "id": "7424265b",
   "metadata": {},
   "outputs": [],
   "source": [
    "alls = pd.read_csv(scaled_all_backup_csv_path)\n",
    "bd = pd.read_csv(scaled_bangladesh_backup_csv_path)\n",
    "ind = pd.read_csv(scaled_kolkata_backup_csv_path)"
   ]
  },
  {
   "cell_type": "code",
   "execution_count": 18,
   "id": "fe940d4d",
   "metadata": {},
   "outputs": [],
   "source": [
    "make_correlated_feature(alls,scaled_all_song_correlated_features_csv_path)\n",
    "make_correlated_feature(bd,scaled_bangladesh_song_correlated_features_csv_path)\n",
    "make_correlated_feature(ind,scaled_kolkata_song_correlated_features_csv_path)"
   ]
  },
  {
   "cell_type": "code",
   "execution_count": 133,
   "id": "170bd46f",
   "metadata": {},
   "outputs": [],
   "source": [
    "# corr_fieldnames = []\n",
    "# with open(scaled_all_song_correlated_features_csv_path, newline='', encoding='utf-8') as csvfile:\n",
    "#     reader = csv.reader(csvfile)\n",
    "#     headers = next(reader)\n",
    "#     corr_fieldnames = headers\n",
    "# with open('../correlated_csv/corr_fieldnames.txt', 'w') as file:\n",
    "#     file.write(str(corr_fieldnames))"
   ]
  },
  {
   "cell_type": "code",
   "execution_count": 19,
   "id": "eb55c9e8",
   "metadata": {},
   "outputs": [
    {
     "data": {
      "text/plain": [
       "52"
      ]
     },
     "execution_count": 19,
     "metadata": {},
     "output_type": "execute_result"
    }
   ],
   "source": [
    "len(corr_fieldnames)"
   ]
  },
  {
   "cell_type": "code",
   "execution_count": null,
   "id": "413914a0",
   "metadata": {},
   "outputs": [],
   "source": []
  }
 ],
 "metadata": {
  "kernelspec": {
   "display_name": "Python 3",
   "language": "python",
   "name": "python3"
  },
  "language_info": {
   "codemirror_mode": {
    "name": "ipython",
    "version": 3
   },
   "file_extension": ".py",
   "mimetype": "text/x-python",
   "name": "python",
   "nbconvert_exporter": "python",
   "pygments_lexer": "ipython3",
   "version": "3.10.7"
  },
  "vscode": {
   "interpreter": {
    "hash": "a42ccb73e7d9bfdf27e036f1d2b8b681e55fc0743cc5586bc2474d4a60f4b886"
   }
  }
 },
 "nbformat": 4,
 "nbformat_minor": 5
}
