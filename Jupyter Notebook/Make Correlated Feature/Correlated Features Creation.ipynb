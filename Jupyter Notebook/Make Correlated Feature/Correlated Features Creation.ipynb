{
 "cells": [
  {
   "cell_type": "code",
   "execution_count": 21,
   "id": "5270f4eb",
   "metadata": {},
   "outputs": [],
   "source": [
    "import csv\n",
    "import os\n",
    "import json\n",
    "from collections import Counter\n",
    "import pandas as pd"
   ]
  },
  {
   "cell_type": "code",
   "execution_count": 22,
   "id": "77811b30",
   "metadata": {},
   "outputs": [],
   "source": [
    "fieldnames = [\"Country\",\n",
    "              \"Song Name\",\n",
    "              \"Popularity\",\n",
    "              \"Time Signature\",\n",
    "              \"Duration MS\",\n",
    "              \"Tempo\",\n",
    "              \"Valence\",\n",
    "              \"Liveness\",\n",
    "              \"Instrumentalness\",\n",
    "              \"Acousticness\",\n",
    "              \"Speechiness\",\n",
    "              \"Loudness\",\n",
    "              \"Key\",\n",
    "              \"Mode\",\n",
    "              \"Energy\",\n",
    "              \"Danceability\"]"
   ]
  },
  {
   "cell_type": "code",
   "execution_count": 23,
   "id": "ca831763",
   "metadata": {},
   "outputs": [],
   "source": [
    "scaled_all_backup_csv_path = '../backup_csv/scaled_backup_all_song_features_csv.csv'\n",
    "scaled_bangladesh_backup_csv_path = '../backup_csv/scaled_backup_bangladesh_song_features_csv.csv'\n",
    "scaled_kolkata_backup_csv_path = '../backup_csv/scaled_backup_kolkata_song_features_csv.csv'"
   ]
  },
  {
   "cell_type": "code",
   "execution_count": 24,
   "id": "fb04acf8",
   "metadata": {},
   "outputs": [],
   "source": [
    "scaled_all_song_correlated_features_csv_path = '../correlated_csv/scaled_all_song_correlated_features_csv.csv'\n",
    "scaled_bangladesh_song_correlated_features_csv_path = '../correlated_csv/scaled_bangladesh_song_correlated_features_csv.csv'\n",
    "scaled_kolkata_song_correlated_features_csv_path = '../correlated_csv/scaled_kolkata_song_correlated_features_csv.csv'"
   ]
  },
  {
   "cell_type": "code",
   "execution_count": 25,
   "id": "478db0ad",
   "metadata": {},
   "outputs": [],
   "source": [
    "def delete_csv(csv_path):\n",
    "    if os.path.exists(csv_path):\n",
    "      os.remove(csv_path)"
   ]
  },
  {
   "cell_type": "code",
   "execution_count": 26,
   "id": "b5e47d2a",
   "metadata": {},
   "outputs": [],
   "source": [
    "def df_to_csv(dataframe,new_file):\n",
    "    dataframe.to_csv(new_file, index=False)"
   ]
  },
  {
   "cell_type": "code",
   "execution_count": 27,
   "id": "9f503ed6",
   "metadata": {},
   "outputs": [],
   "source": [
    "def make_correlated_feature(dataframe,new_file):\n",
    "    delete_csv(new_file)\n",
    "    dataframe['Tempo-Valence'] = dataframe['Tempo'] * dataframe['Valence']\n",
    "    dataframe['Tempo-Liveness'] = dataframe['Tempo'] * dataframe['Liveness']\n",
    "    dataframe['Tempo-Instrumentalness'] = dataframe['Tempo'] * dataframe['Instrumentalness']\n",
    "    dataframe['Tempo-Acousticness'] = dataframe['Tempo'] * dataframe['Acousticness']\n",
    "    dataframe['Tempo-Speechiness'] = dataframe['Tempo'] * dataframe['Speechiness']\n",
    "    dataframe['Tempo-Loudness'] = dataframe['Tempo'] * dataframe['Loudness']\n",
    "    dataframe['Tempo-Energy'] = dataframe['Tempo'] * dataframe['Energy']\n",
    "    dataframe['Tempo-Danceability'] = dataframe['Tempo'] * dataframe['Danceability']\n",
    "\n",
    "    dataframe['Valence-Liveness'] = dataframe['Valence'] * dataframe['Liveness']\n",
    "    dataframe['Valence-Acousticness'] = dataframe['Valence'] * dataframe['Acousticness']\n",
    "    dataframe['Valence-Speechiness'] = dataframe['Valence'] * dataframe['Speechiness']\n",
    "    dataframe['Valence-Loudness'] = dataframe['Valence'] * dataframe['Loudness']\n",
    "    dataframe['Valence-Energy'] = dataframe['Valence'] * dataframe['Energy']\n",
    "    dataframe['Valence-Danceability'] = dataframe['Valence'] * dataframe['Danceability']\n",
    "\n",
    "    dataframe['Liveness-Instrumentalness'] = dataframe['Liveness'] * dataframe['Instrumentalness']\n",
    "    dataframe['Liveness-Acousticness'] = dataframe['Liveness'] * dataframe['Acousticness']\n",
    "    dataframe['Liveness-Speechiness'] = dataframe['Liveness'] * dataframe['Speechiness']\n",
    "    dataframe['Liveness-Loudness'] = dataframe['Liveness'] * dataframe['Loudness']\n",
    "    dataframe['Liveness-Energy'] = dataframe['Liveness'] * dataframe['Energy']\n",
    "    dataframe['Liveness-Danceability'] = dataframe['Liveness'] * dataframe['Danceability']\n",
    "\n",
    "    dataframe['Instrumentalness-Acousticness'] = dataframe['Instrumentalness'] * dataframe['Acousticness']\n",
    "    dataframe['Instrumentalness-Loudness'] = dataframe['Instrumentalness'] * dataframe['Loudness']\n",
    "    dataframe['Instrumentalness-Energy'] = dataframe['Instrumentalness'] * dataframe['Energy']\n",
    "    dataframe['Instrumentalness-Danceability'] = dataframe['Instrumentalness'] * dataframe['Danceability']\n",
    "\n",
    "    dataframe['Acousticness-Speechiness'] = dataframe['Acousticness'] * dataframe['Speechiness']\n",
    "    dataframe['Acousticness-Loudness'] = dataframe['Acousticness'] * dataframe['Loudness']\n",
    "    dataframe['Acousticness-Energy'] = dataframe['Acousticness'] * dataframe['Energy']\n",
    "    dataframe['Acousticness-Danceability'] = dataframe['Acousticness'] * dataframe['Danceability']\n",
    "\n",
    "    dataframe['Speechiness-Loudness'] = dataframe['Speechiness'] * dataframe['Loudness']\n",
    "    dataframe['Speechiness-Energy'] = dataframe['Speechiness'] * dataframe['Energy']\n",
    "\n",
    "    dataframe['Loudness-Energy'] = dataframe['Loudness'] * dataframe['Energy']\n",
    "    dataframe['Loudness-Danceability'] = dataframe['Loudness'] * dataframe['Danceability']\n",
    "\n",
    "    dataframe['Energy-Danceability'] = dataframe['Energy'] * dataframe['Danceability']\n",
    "    df_to_csv(dataframe,new_file)"
   ]
  },
  {
   "cell_type": "code",
   "execution_count": 28,
   "id": "7424265b",
   "metadata": {},
   "outputs": [],
   "source": [
    "alls = pd.read_csv(scaled_all_backup_csv_path)\n",
    "bd = pd.read_csv(scaled_bangladesh_backup_csv_path)\n",
    "ind = pd.read_csv(scaled_kolkata_backup_csv_path)"
   ]
  },
  {
   "cell_type": "code",
   "execution_count": 29,
   "id": "fe940d4d",
   "metadata": {},
   "outputs": [],
   "source": [
    "make_correlated_feature(alls,scaled_all_song_correlated_features_csv_path)\n",
    "# make_correlated_feature(bd,scaled_bangladesh_song_correlated_features_csv_path)\n",
    "# make_correlated_feature(ind,scaled_kolkata_song_correlated_features_csv_path)"
   ]
  },
  {
   "cell_type": "code",
   "execution_count": 30,
   "id": "170bd46f",
   "metadata": {},
   "outputs": [],
   "source": [
    "# corr_fieldnames = []\n",
    "# with open(scaled_all_song_correlated_features_csv_path, newline='\\n', encoding='utf-8') as csvfile:\n",
    "#     reader = csv.reader(csvfile)\n",
    "#     headers = next(reader)\n",
    "#     corr_fieldnames = headers\n",
    "# with open('../correlated_csv/corr_fieldnames.txt', 'w') as file:\n",
    "#     file.write(str(corr_fieldnames))"
   ]
  },
  {
   "cell_type": "code",
   "execution_count": 31,
   "id": "eb55c9e8",
   "metadata": {},
   "outputs": [
    {
     "data": {
      "text/plain": [
       "49"
      ]
     },
     "execution_count": 31,
     "metadata": {},
     "output_type": "execute_result"
    }
   ],
   "source": [
    "len(corr_fieldnames)"
   ]
  },
  {
   "cell_type": "code",
   "execution_count": null,
   "id": "413914a0",
   "metadata": {},
   "outputs": [],
   "source": [
    "# dataframe['Tempo-Valence'] = dataframe['Tempo'] * dataframe['Valence']\n",
    "# dataframe['Tempo-Liveness'] = dataframe['Tempo'] * dataframe['Liveness']\n",
    "# dataframe['Tempo-Instrumentalness'] = dataframe['Tempo'] * dataframe['Instrumentalness']\n",
    "# dataframe['Tempo-Acousticness'] = dataframe['Tempo'] * dataframe['Acousticness']\n",
    "# dataframe['Tempo-Speechiness'] = dataframe['Tempo'] * dataframe['Speechiness']\n",
    "# dataframe['Tempo-Loudness'] = dataframe['Tempo'] * dataframe['Loudness']\n",
    "# dataframe['Tempo-Energy'] = dataframe['Tempo'] * dataframe['Energy']\n",
    "# dataframe['Tempo-Danceability'] = dataframe['Tempo'] * dataframe['Danceability']\n",
    "\n",
    "# dataframe['Valence-Liveness'] = dataframe['Valence'] * dataframe['Liveness']\n",
    "# dataframe['Valence-Acousticness'] = dataframe['Valence'] * dataframe['Acousticness']\n",
    "# dataframe['Valence-Speechiness'] = dataframe['Valence'] * dataframe['Speechiness']\n",
    "# dataframe['Valence-Loudness'] = dataframe['Valence'] * dataframe['Loudness']\n",
    "# dataframe['Valence-Energy'] = dataframe['Valence'] * dataframe['Energy']\n",
    "# dataframe['Valence-Danceability'] = dataframe['Valence'] * dataframe['Danceability']\n",
    "\n",
    "# dataframe['Liveness-Instrumentalness'] = dataframe['Liveness'] * dataframe['Instrumentalness']\n",
    "# dataframe['Liveness-Acousticness'] = dataframe['Liveness'] * dataframe['Acousticness']\n",
    "# dataframe['Liveness-Speechiness'] = dataframe['Liveness'] * dataframe['Speechiness']\n",
    "# dataframe['Liveness-Loudness'] = dataframe['Liveness'] * dataframe['Loudness']\n",
    "# dataframe['Liveness-Energy'] = dataframe['Liveness'] * dataframe['Energy']\n",
    "# dataframe['Liveness-Danceability'] = dataframe['Liveness'] * dataframe['Danceability']\n",
    "\n",
    "# dataframe['Instrumentalness-Acousticness'] = dataframe['Instrumentalness'] * dataframe['Acousticness']\n",
    "# dataframe['Instrumentalness-Loudness'] = dataframe['Instrumentalness'] * dataframe['Loudness']\n",
    "# dataframe['Instrumentalness-Energy'] = dataframe['Instrumentalness'] * dataframe['Energy']\n",
    "# dataframe['Instrumentalness-Danceability'] = dataframe['Instrumentalness'] * dataframe['Danceability']\n",
    "\n",
    "# dataframe['Acousticness-Speechiness'] = dataframe['Acousticness'] * dataframe['Speechiness']\n",
    "# dataframe['Acousticness-Loudness'] = dataframe['Acousticness'] * dataframe['Loudness']\n",
    "# dataframe['Acousticness-Energy'] = dataframe['Acousticness'] * dataframe['Energy']\n",
    "# dataframe['Acousticness-Danceability'] = dataframe['Acousticness'] * dataframe['Danceability']\n",
    "\n",
    "# dataframe['Speechiness-Loudness'] = dataframe['Speechiness'] * dataframe['Loudness']\n",
    "# dataframe['Speechiness-Energy'] = dataframe['Speechiness'] * dataframe['Energy']\n",
    "\n",
    "# dataframe['Loudness-Energy'] = dataframe['Loudness'] * dataframe['Energy']\n",
    "# dataframe['Loudness-Danceability'] = dataframe['Loudness'] * dataframe['Danceability']\n",
    "\n",
    "# dataframe['Energy-Danceability'] = dataframe['Energy'] * dataframe['Danceability']"
   ]
  }
 ],
 "metadata": {
  "kernelspec": {
   "display_name": "Python 3 (ipykernel)",
   "language": "python",
   "name": "python3"
  },
  "language_info": {
   "codemirror_mode": {
    "name": "ipython",
    "version": 3
   },
   "file_extension": ".py",
   "mimetype": "text/x-python",
   "name": "python",
   "nbconvert_exporter": "python",
   "pygments_lexer": "ipython3",
   "version": "3.10.7"
  },
  "vscode": {
   "interpreter": {
    "hash": "a42ccb73e7d9bfdf27e036f1d2b8b681e55fc0743cc5586bc2474d4a60f4b886"
   }
  }
 },
 "nbformat": 4,
 "nbformat_minor": 5
}
