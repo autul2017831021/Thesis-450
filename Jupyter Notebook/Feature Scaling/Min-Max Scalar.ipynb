{
 "cells": [
  {
   "cell_type": "code",
   "execution_count": 1,
   "id": "72e7d5a2",
   "metadata": {},
   "outputs": [],
   "source": [
    "import csv\n",
    "import os\n",
    "import seaborn as sns\n",
    "import numpy as np\n",
    "import matplotlib.pyplot as plt\n",
    "import pandas as pd\n",
    "from sklearn.preprocessing import MinMaxScaler"
   ]
  },
  {
   "cell_type": "code",
   "execution_count": 2,
   "id": "279388ad",
   "metadata": {},
   "outputs": [],
   "source": [
    "all_backup_csv_path = '../backup_csv/backup_all_song_features_csv.csv'\n",
    "bangladesh_backup_csv_path = '../backup_csv/backup_bangladesh_song_features_csv.csv'\n",
    "kolkata_backup_csv_path = '../backup_csv/backup_kolkata_song_features_csv.csv'"
   ]
  },
  {
   "cell_type": "code",
   "execution_count": 3,
   "id": "0825e8f8",
   "metadata": {},
   "outputs": [],
   "source": [
    "scaled_all_backup_csv_path = '../backup_csv/scaled_backup_all_song_features_csv.csv'\n",
    "scaled_bangladesh_backup_csv_path = '../backup_csv/scaled_backup_bangladesh_song_features_csv.csv'\n",
    "scaled_kolkata_backup_csv_path = '../backup_csv/scaled_backup_kolkata_song_features_csv.csv'"
   ]
  },
  {
   "cell_type": "code",
   "execution_count": 4,
   "id": "70d0f5dd",
   "metadata": {},
   "outputs": [],
   "source": [
    "alls = pd.read_csv(all_backup_csv_path)\n",
    "bd = pd.read_csv(bangladesh_backup_csv_path)\n",
    "ind = pd.read_csv(kolkata_backup_csv_path)"
   ]
  },
  {
   "cell_type": "code",
   "execution_count": 5,
   "id": "f5b03f39",
   "metadata": {},
   "outputs": [],
   "source": [
    "def scaling(dataframe,csv_path):\n",
    "    cols_to_scale = [col for col in dataframe.columns[1:] if dataframe[col].dtype != 'object']\n",
    "\n",
    "    # Instantiate the MinMaxScaler object\n",
    "#     scaler = MinMaxScaler(feature_range=(-1, 1))\n",
    "    scaler = MinMaxScaler()\n",
    "\n",
    "    # Fit the scaler on the selected columns\n",
    "    scaler.fit(dataframe[cols_to_scale])\n",
    "\n",
    "    # Transform the selected columns using the scaler\n",
    "    scaled_cols = scaler.transform(dataframe[cols_to_scale])\n",
    "\n",
    "    # Replace the original columns with the scaled columns in the DataFrame\n",
    "    dataframe.loc[:, cols_to_scale] = scaled_cols\n",
    "\n",
    "    # Save the scaled DataFrame to a new CSV file\n",
    "    dataframe.to_csv(csv_path, index=False)"
   ]
  },
  {
   "cell_type": "code",
   "execution_count": 6,
   "id": "7e5635cd",
   "metadata": {},
   "outputs": [],
   "source": [
    "scaling(alls,scaled_all_backup_csv_path)\n",
    "# scaling(bd,scaled_bangladesh_backup_csv_path)\n",
    "# scaling(ind,scaled_kolkata_backup_csv_path)"
   ]
  },
  {
   "cell_type": "code",
   "execution_count": 76,
   "id": "8041613e",
   "metadata": {},
   "outputs": [],
   "source": [
    "# # Instantiate the MinMaxScaler object\n",
    "# scaler = MinMaxScaler()\n",
    "\n",
    "# # Fit the scaler on the data\n",
    "# scaler.fit(data[0:,2:])\n",
    "\n",
    "# # Transform the data using the scaler\n",
    "# scaled_data = scaler.transform(data[0:,2:])\n",
    "\n",
    "# print(scaled_data)\n",
    "\n",
    "# # Create a new DataFrame from the scaled data\n",
    "# scaled_df = pd.DataFrame(scaled_data, columns=df.columns[2:])\n",
    "\n",
    "# # Save the new DataFrame to a CSV file\n",
    "# scaled_df.to_csv('scaled_csv_file.csv', index=False)"
   ]
  }
 ],
 "metadata": {
  "kernelspec": {
   "display_name": "Python 3 (ipykernel)",
   "language": "python",
   "name": "python3"
  },
  "language_info": {
   "codemirror_mode": {
    "name": "ipython",
    "version": 3
   },
   "file_extension": ".py",
   "mimetype": "text/x-python",
   "name": "python",
   "nbconvert_exporter": "python",
   "pygments_lexer": "ipython3",
   "version": "3.10.7"
  }
 },
 "nbformat": 4,
 "nbformat_minor": 5
}
