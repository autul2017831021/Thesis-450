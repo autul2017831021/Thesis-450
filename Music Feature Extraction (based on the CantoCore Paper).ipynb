{
 "cells": [
  {
   "cell_type": "code",
   "execution_count": 16,
   "id": "8d831944",
   "metadata": {},
   "outputs": [],
   "source": [
    "import librosa\n",
    "import numpy as np\n",
    "import math\n",
    "import librosa.display as display\n",
    "import matplotlib.pyplot as plt\n",
    "from collections import Counter"
   ]
  },
  {
   "cell_type": "code",
   "execution_count": 17,
   "id": "a7994ef5",
   "metadata": {},
   "outputs": [],
   "source": [
    "audio_path = 'data/Vibe - Odhora (with lyrics).wav'"
   ]
  },
  {
   "cell_type": "code",
   "execution_count": 18,
   "id": "5fa89563",
   "metadata": {},
   "outputs": [],
   "source": [
    "y, sr = librosa.load(audio_path)"
   ]
  },
  {
   "cell_type": "code",
   "execution_count": 19,
   "id": "e91ef754",
   "metadata": {},
   "outputs": [
    {
     "name": "stdout",
     "output_type": "stream",
     "text": [
      "[0. 0. 0. ... 0. 0. 0.]\n"
     ]
    }
   ],
   "source": [
    "print(y)"
   ]
  },
  {
   "cell_type": "code",
   "execution_count": 20,
   "id": "9177cb68",
   "metadata": {},
   "outputs": [],
   "source": [
    "tempo, beat_frames = librosa.beat.beat_track(y=y, sr=sr)"
   ]
  },
  {
   "cell_type": "code",
   "execution_count": 21,
   "id": "3062285c",
   "metadata": {},
   "outputs": [
    {
     "name": "stdout",
     "output_type": "stream",
     "text": [
      "129.19921875\n",
      "[   55    76    94   111   128   148   167   187   207   227   248   268\n",
      "   288   308   328   348   369   390   410   430   450   471   491   511\n",
      "   530   550   571   591   611   631   651   671   691   712   733   753\n",
      "   773   794   814   834   854   874   894   914   932   950   968   986\n",
      "  1006  1025  1045  1066  1086  1106  1126  1146  1166  1186  1207  1227\n",
      "  1246  1266  1286  1307  1328  1348  1368  1389  1409  1429  1450  1470\n",
      "  1490  1510  1531  1551  1571  1591  1611  1631  1651  1671  1692  1712\n",
      "  1732  1753  1772  1793  1813  1834  1854  1873  1893  1914  1934  1954\n",
      "  1974  1994  2014  2034  2054  2075  2095  2115  2135  2156  2176  2197\n",
      "  2216  2236  2256  2277  2297  2317  2337  2358  2379  2399  2419  2439\n",
      "  2459  2479  2499  2519  2539  2559  2580  2600  2620  2641  2661  2681\n",
      "  2702  2722  2741  2762  2781  2803  2823  2842  2862  2883  2904  2923\n",
      "  2944  2964  2984  3004  3024  3044  3064  3084  3104  3125  3145  3166\n",
      "  3185  3206  3226  3247  3268  3287  3307  3327  3346  3366  3386  3407\n",
      "  3427  3448  3467  3488  3509  3529  3549  3569  3588  3608  3628  3650\n",
      "  3670  3690  3710  3731  3751  3771  3791  3811  3832  3852  3872  3893\n",
      "  3913  3933  3952  3972  3992  4012  4032  4053  4073  4093  4113  4134\n",
      "  4154  4174  4193  4213  4232  4252  4273  4294  4315  4335  4355  4376\n",
      "  4397  4417  4437  4458  4479  4498  4518  4538  4558  4579  4599  4619\n",
      "  4639  4659  4679  4700  4720  4740  4760  4780  4800  4821  4841  4861\n",
      "  4882  4902  4921  4942  4962  4982  5003  5023  5043  5064  5083  5103\n",
      "  5124  5144  5163  5184  5205  5226  5246  5265  5285  5306  5326  5346\n",
      "  5366  5386  5406  5427  5447  5467  5487  5507  5528  5548  5568  5588\n",
      "  5608  5628  5648  5669  5689  5709  5729  5749  5769  5789  5809  5830\n",
      "  5850  5870  5890  5911  5932  5952  5970  5992  6012  6032  6053  6073\n",
      "  6093  6113  6132  6153  6173  6194  6214  6233  6253  6274  6295  6315\n",
      "  6335  6355  6375  6395  6415  6435  6455  6475  6495  6516  6536  6557\n",
      "  6576  6596  6616  6637  6658  6678  6698  6718  6739  6759  6779  6799\n",
      "  6820  6839  6859  6880  6900  6921  6941  6960  6980  7001  7021  7041\n",
      "  7062  7082  7101  7122  7142  7162  7182  7202  7223  7244  7264  7284\n",
      "  7304  7324  7345  7365  7385  7405  7424  7444  7465  7485  7505  7526\n",
      "  7546  7566  7586  7606  7627  7647  7667  7688  7707  7727  7748  7769\n",
      "  7789  7809  7828  7849  7869  7888  7909  7929  7949  7970  7990  8010\n",
      "  8031  8051  8071  8091  8111  8132  8152  8172  8192  8212  8231  8252\n",
      "  8272  8292  8311  8332  8353  8374  8394  8414  8434  8455  8475  8494\n",
      "  8514  8534  8555  8575  8595  8615  8636  8656  8675  8696  8716  8736\n",
      "  8757  8777  8797  8818  8838  8858  8878  8898  8918  8938  8958  8980\n",
      "  9000  9020  9040  9061  9080  9101  9119  9141  9161  9182  9201  9221\n",
      "  9241  9261  9281  9302  9322  9342  9362  9382  9402  9422  9442  9463\n",
      "  9483  9502  9523  9543  9563  9584  9604  9625  9645  9665  9686  9707\n",
      "  9727  9747  9767  9788  9808  9828  9849  9868  9888  9909  9930  9949\n",
      "  9968  9988 10009 10029 10050 10070 10089 10109 10129 10149 10168 10190\n",
      " 10211 10231 10251 10271 10291 10312 10332 10353 10373 10393 10413 10434\n",
      " 10453 10473 10492 10513 10534 10555 10575 10595 10615 10635 10656 10675\n",
      " 10695 10715 10735 10756 10776 10796 10816 10837 10858 10878 10898 10918\n",
      " 10938 10958 10978 10999 11019 11039 11059 11079 11099 11119 11138 11158\n",
      " 11177 11196 11216 11237 11259 11281 11301 11321 11342 11362 11382 11402\n",
      " 11422 11441 11461 11483 11503 11523 11542 11563 11584 11604 11624 11644\n",
      " 11664 11685 11706 11727 11747 11767 11787 11808 11827 11847 11867 11886\n",
      " 11907 11927 11947 11966 11987 12008]\n"
     ]
    }
   ],
   "source": [
    "print(tempo)\n",
    "print(beat_frames)"
   ]
  },
  {
   "cell_type": "code",
   "execution_count": 22,
   "id": "48a435d3",
   "metadata": {},
   "outputs": [
    {
     "name": "stdout",
     "output_type": "stream",
     "text": [
      "Number Of Beats: 594\n"
     ]
    }
   ],
   "source": [
    "# number of beats\n",
    "n_beats = len(beat_frames)\n",
    "\n",
    "print(\"Number Of Beats:\", n_beats)"
   ]
  },
  {
   "cell_type": "code",
   "execution_count": 23,
   "id": "9f4121de",
   "metadata": {},
   "outputs": [
    {
     "name": "stdout",
     "output_type": "stream",
     "text": [
      "Number Of Pitch Classes: 12\n"
     ]
    }
   ],
   "source": [
    "# number of pitch classes\n",
    "###### FLAWED CODE ######\n",
    "\n",
    "chromagram = librosa.feature.chroma_stft(y=y, sr=sr)\n",
    "\n",
    "# Calculate number of pitch classes\n",
    "pitch_classes = np.shape(chromagram)[0]\n",
    "\n",
    "print(\"Number Of Pitch Classes:\", pitch_classes)"
   ]
  },
  {
   "cell_type": "code",
   "execution_count": 24,
   "id": "101f58eb",
   "metadata": {},
   "outputs": [
    {
     "name": "stdout",
     "output_type": "stream",
     "text": [
      "Number of pitch classes:  4.979615\n"
     ]
    }
   ],
   "source": [
    "chroma = librosa.feature.chroma_cqt(y=y, sr=sr)\n",
    "\n",
    "# Normalize the chroma matrix so that the values are between 0 and 1\n",
    "chroma = librosa.util.normalize(chroma, axis=0)\n",
    "\n",
    "# Take the sum along the columns to get the number of pitch classes\n",
    "pitch_classes = np.sum(chroma, axis=0)\n",
    "\n",
    "print(\"Number of pitch classes: \", np.mean(pitch_classes))"
   ]
  },
  {
   "cell_type": "code",
   "execution_count": 25,
   "id": "361f233b",
   "metadata": {},
   "outputs": [
    {
     "name": "stdout",
     "output_type": "stream",
     "text": [
      "Hemitonicity: 28.25907755280757\n"
     ]
    }
   ],
   "source": [
    "# hemitonicity\n",
    "spectral_contrast = librosa.feature.spectral_contrast(y=y, sr=sr)\n",
    "\n",
    "# Calculate hemitonicity\n",
    "hemitonicity = np.mean(spectral_contrast)\n",
    "\n",
    "print(\"Hemitonicity:\", hemitonicity)"
   ]
  },
  {
   "cell_type": "code",
   "execution_count": 26,
   "id": "c1ac8575",
   "metadata": {},
   "outputs": [],
   "source": [
    "def hz_to_cents(arr):\n",
    "    res = []\n",
    "    for i in range(arr.size):\n",
    "        if(arr[i]>0):\n",
    "            mul = arr[i]/440\n",
    "            ans = 1200* (math.log2(mul))\n",
    "            res.append(ans)\n",
    "    return res"
   ]
  },
  {
   "cell_type": "code",
   "execution_count": 27,
   "id": "6d5e31ed",
   "metadata": {},
   "outputs": [
    {
     "name": "stdout",
     "output_type": "stream",
     "text": [
      "Melodic Range: 5673.50454547584\n"
     ]
    }
   ],
   "source": [
    "# melodic range\n",
    "# Compute pitch chroma\n",
    "#chroma = librosa.feature.chroma_stft(y=y, sr=sr)\n",
    "\n",
    "# Calculate melodic range\n",
    "#melodic_range = np.ptp(chroma)\n",
    "#print(melodic_range)\n",
    "\n",
    "pitch, magnitude = librosa.piptrack(y=y, sr=sr)\n",
    "pitch_sequence = np.argmax(pitch, axis=0)\n",
    "\n",
    "cents = hz_to_cents(pitch_sequence)\n",
    "\n",
    "min_cents = np.min(cents)\n",
    "max_cents = np.max(cents)\n",
    "melo_range = max_cents - min_cents\n",
    "\n",
    "print(\"Melodic Range:\", melo_range)"
   ]
  },
  {
   "cell_type": "code",
   "execution_count": 28,
   "id": "9f848bde",
   "metadata": {},
   "outputs": [
    {
     "name": "stdout",
     "output_type": "stream",
     "text": [
      "Melisma: 1.48852492055703\n"
     ]
    }
   ],
   "source": [
    "# MELISMA\n",
    "mfcc = librosa.feature.mfcc(y=y, sr=sr)\n",
    "spectral_contrast = librosa.feature.spectral_contrast(y=y, sr=sr)\n",
    "rms = librosa.feature.rms(y=y)\n",
    "zcr = librosa.feature.zero_crossing_rate(y)\n",
    "\n",
    "# Calculate Melisma based on your desired method\n",
    "melisma = np.mean(mfcc) * np.mean(spectral_contrast) * np.mean(rms) * np.mean(zcr)\n",
    "\n",
    "print(\"Melisma:\", melisma)"
   ]
  },
  {
   "cell_type": "code",
   "execution_count": 29,
   "id": "c4318ab8",
   "metadata": {},
   "outputs": [],
   "source": [
    "def motivic_redundancy(y, sr):\n",
    "    C = librosa.feature.chroma_cqt(y=y, sr=sr)\n",
    "    chroma_motifs = []\n",
    "    for i in range(C.shape[1]-2):\n",
    "        chroma_motifs.append(C[:,i:i+3])\n",
    "    motivic_redundancy = []\n",
    "    for i in range(len(chroma_motifs)):\n",
    "        for j in range(len(chroma_motifs)):\n",
    "            if i!=j:\n",
    "                similarity = np.dot(chroma_motifs[i].T, chroma_motifs[j])\n",
    "                motivic_redundancy.append(np.max(similarity))\n",
    "    return np.mean(motivic_redundancy)"
   ]
  },
  {
   "cell_type": "code",
   "execution_count": 30,
   "id": "ad4282c2",
   "metadata": {},
   "outputs": [],
   "source": [
    "# motivic_red = motivic_redundancy(y, sr)\n",
    "# print(\"Motivic Redundancy: \", motivic_red)"
   ]
  },
  {
   "cell_type": "code",
   "execution_count": 31,
   "id": "b11ad0d9",
   "metadata": {},
   "outputs": [],
   "source": [
    "#phrase_length = np.mean(np.diff(beat_frames)) / 4\n",
    "#print(phrase_length)\n",
    "# Convert the phrase length from seconds to samples\n",
    "#phrase_length_samples = int(phrase_length * sr)\n",
    "#print(phrase_length_samples)"
   ]
  },
  {
   "cell_type": "code",
   "execution_count": 32,
   "id": "683cb963",
   "metadata": {},
   "outputs": [
    {
     "name": "stdout",
     "output_type": "stream",
     "text": [
      "Maximum Phrase Length in Seconds:  0.002766439909297052\n"
     ]
    }
   ],
   "source": [
    "onset_envelope = librosa.onset.onset_strength(y=y, sr=sr)\n",
    "\n",
    "# Identify onsets\n",
    "onsets = librosa.onset.onset_detect(y=y, onset_envelope=onset_envelope, sr=sr)\n",
    "\n",
    "# Calculate the difference between consecutive onsets\n",
    "phrase_length = np.diff(onsets)\n",
    "# Convert to seconds\n",
    "phrase_length_sec = phrase_length / sr\n",
    "print(\"Maximum Phrase Length in Seconds: \",np.max(phrase_length_sec))"
   ]
  },
  {
   "cell_type": "code",
   "execution_count": 33,
   "id": "ad4eb8e1",
   "metadata": {},
   "outputs": [
    {
     "name": "stdout",
     "output_type": "stream",
     "text": [
      "61\n",
      "2\n",
      "30.5\n"
     ]
    }
   ],
   "source": [
    "print(np.max(phrase_length))\n",
    "print(np.min(phrase_length))\n",
    "print(np.max(phrase_length)/np.min(phrase_length))"
   ]
  },
  {
   "cell_type": "code",
   "execution_count": 34,
   "id": "26724e08",
   "metadata": {},
   "outputs": [
    {
     "name": "stdout",
     "output_type": "stream",
     "text": [
      "0.002766439909297052\n",
      "9.070294784580499e-05\n",
      "Phrase Symmetry:  30.499999999999996\n"
     ]
    }
   ],
   "source": [
    "max_phrase_len = np.max(phrase_length_sec)\n",
    "min_phrase_len = np.min(phrase_length_sec)\n",
    "print(max_phrase_len)\n",
    "print(min_phrase_len)\n",
    "print(\"Phrase Symmetry: \",max_phrase_len/min_phrase_len)"
   ]
  },
  {
   "cell_type": "code",
   "execution_count": 35,
   "id": "15a8cf07",
   "metadata": {},
   "outputs": [],
   "source": [
    "def most_frequent(list1):\n",
    "    count = Counter(list1)\n",
    "    return max(count, key=count.get) , max(count.values())"
   ]
  },
  {
   "cell_type": "code",
   "execution_count": 36,
   "id": "2b83ca96",
   "metadata": {},
   "outputs": [
    {
     "name": "stdout",
     "output_type": "stream",
     "text": [
      "Phrase overlap:  13.048245614035087\n"
     ]
    }
   ],
   "source": [
    "overlap = []\n",
    "for i in range(len(phrase_length) - 1):\n",
    "    overlap.append(sum(phrase_length[i:i+2]) / max(phrase_length[i:i+2]))\n",
    "    \n",
    "num,times = most_frequent(overlap)\n",
    "percentage = (times/len(overlap))*100\n",
    "\n",
    "# Print overlap results\n",
    "print(\"Phrase overlap: \", percentage)"
   ]
  },
  {
   "cell_type": "code",
   "execution_count": null,
   "id": "21fdce4e",
   "metadata": {},
   "outputs": [],
   "source": []
  },
  {
   "cell_type": "code",
   "execution_count": null,
   "id": "dde85fed",
   "metadata": {},
   "outputs": [],
   "source": []
  },
  {
   "cell_type": "code",
   "execution_count": null,
   "id": "d22ad8ed",
   "metadata": {},
   "outputs": [],
   "source": []
  },
  {
   "cell_type": "code",
   "execution_count": null,
   "id": "4b712774",
   "metadata": {},
   "outputs": [],
   "source": []
  }
 ],
 "metadata": {
  "kernelspec": {
   "display_name": "Python 3 (ipykernel)",
   "language": "python",
   "name": "python3"
  },
  "language_info": {
   "codemirror_mode": {
    "name": "ipython",
    "version": 3
   },
   "file_extension": ".py",
   "mimetype": "text/x-python",
   "name": "python",
   "nbconvert_exporter": "python",
   "pygments_lexer": "ipython3",
   "version": "3.10.7"
  }
 },
 "nbformat": 4,
 "nbformat_minor": 5
}
