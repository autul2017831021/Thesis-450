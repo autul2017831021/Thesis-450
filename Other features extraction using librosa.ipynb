{
 "cells": [
  {
   "cell_type": "code",
   "execution_count": 210,
   "id": "87a3bbf9",
   "metadata": {},
   "outputs": [],
   "source": [
    "import librosa\n",
    "import numpy as np\n",
    "import math\n",
    "import librosa.display as display\n",
    "import matplotlib.pyplot as plt\n",
    "from collections import Counter\n",
    "import soundfile as sf\n",
    "import IPython.display as ipd"
   ]
  },
  {
   "cell_type": "code",
   "execution_count": 239,
   "id": "7ee23b5b",
   "metadata": {},
   "outputs": [],
   "source": [
    "#audio_path = 'data/Vibe - Odhora (with lyrics).wav'\n",
    "audio_path = 'data/Spiritbox - The Mara Effect live at Silverside Sound.wav'\n",
    "#audio_path = 'data/Arnob-She je boshe ache.wav'"
   ]
  },
  {
   "cell_type": "code",
   "execution_count": 240,
   "id": "1b1fdcce",
   "metadata": {},
   "outputs": [],
   "source": [
    "y, sr = librosa.load(audio_path)"
   ]
  },
  {
   "cell_type": "code",
   "execution_count": 241,
   "id": "09625806",
   "metadata": {},
   "outputs": [],
   "source": [
    "tempo, beat_frames = librosa.beat.beat_track(y=y, sr=sr)"
   ]
  },
  {
   "cell_type": "code",
   "execution_count": 242,
   "id": "427c948a",
   "metadata": {},
   "outputs": [],
   "source": [
    "# Compute the chroma features\n",
    "chroma = librosa.feature.chroma_cqt(y=y, sr=sr)"
   ]
  },
  {
   "cell_type": "code",
   "execution_count": 243,
   "id": "5f2b280a",
   "metadata": {},
   "outputs": [],
   "source": [
    "# Compute the tonality\n",
    "tonality = librosa.feature.tonnetz(y=y, sr=sr)"
   ]
  },
  {
   "cell_type": "code",
   "execution_count": 244,
   "id": "0b6981f0",
   "metadata": {},
   "outputs": [
    {
     "name": "stdout",
     "output_type": "stream",
     "text": [
      "107.666015625\n"
     ]
    }
   ],
   "source": [
    "print(tempo)\n",
    "#print(beat_frames)"
   ]
  },
  {
   "cell_type": "code",
   "execution_count": 245,
   "id": "05bc4005",
   "metadata": {},
   "outputs": [],
   "source": [
    "def return_key_name(key):\n",
    "    if key == 0:\n",
    "        return \"C\"\n",
    "    elif key == 1:\n",
    "        return \"C#/Db\"\n",
    "    elif key == 2:\n",
    "        return \"D\"\n",
    "    elif key == 3:\n",
    "        return \"D#/Eb\"\n",
    "    elif key == 4:\n",
    "        return \"E\"\n",
    "    elif key == 5:\n",
    "        return \"F\"\n",
    "    elif key == 6:\n",
    "        return \"F#/Gb\"\n",
    "    elif key == 7:\n",
    "        return \"G\"\n",
    "    elif key == 8:\n",
    "        return \"G#/Ab\"\n",
    "    elif key == 9:\n",
    "        return \"A\"\n",
    "    elif key == 10:\n",
    "        return \"A#/Bb\"\n",
    "    else :\n",
    "        return \"B\""
   ]
  },
  {
   "cell_type": "code",
   "execution_count": 246,
   "id": "92e9888c",
   "metadata": {},
   "outputs": [
    {
     "name": "stdout",
     "output_type": "stream",
     "text": [
      "Key:  F#/Gb - 6\n"
     ]
    }
   ],
   "source": [
    "# Compute the key\n",
    "key = np.argmax(np.mean(chroma, axis=1))\n",
    "key_name = return_key_name(key)\n",
    "print(\"Key: \",key_name,\"-\",key)"
   ]
  },
  {
   "cell_type": "code",
   "execution_count": 247,
   "id": "91c69a1c",
   "metadata": {},
   "outputs": [
    {
     "name": "stdout",
     "output_type": "stream",
     "text": [
      "Mode:  In Major Key - 0\n"
     ]
    }
   ],
   "source": [
    "# Compute the mode\n",
    "mode = 1 if np.mean(chroma[5:7]) > np.mean(chroma[-5:-3]) else 0\n",
    "\n",
    "print(\"Mode: \",\"In Major Key -\" if mode==0 else \"In Minor Key -\",mode)"
   ]
  },
  {
   "cell_type": "code",
   "execution_count": 248,
   "id": "d7428e2e",
   "metadata": {},
   "outputs": [],
   "source": [
    "## this function return an integer from [0,6] which corresponds mode type\n",
    "def return_mode_type_value():\n",
    "    ionian = [1, 0, 1, 0, 1, 1, 0, 1, 0, 1, 0, 1]\n",
    "    dorian = [1, 0, 1, 1, 0, 1, 0, 1, 0, 1, 1, 0]\n",
    "    phrygian = [1, 1, 0, 1, 0, 1, 0, 1, 1, 0, 1, 0]\n",
    "    lydian = [1, 0, 1, 0, 1, 0, 1, 1, 0, 1, 0, 1]\n",
    "    mixolydian = [1, 0, 1, 0, 1, 1, 0, 1, 0, 1, 1, 0]\n",
    "    aeolian = [1, 0, 1, 1, 0, 1, 0, 1, 1, 0, 1, 0]\n",
    "    locrian = [1, 1, 0, 1, 0, 1, 1, 0, 1, 0, 1, 0]\n",
    "    \n",
    "    chroma_mean = np.mean(chroma, axis=1)\n",
    "    \n",
    "    # Compute the correlation between the chroma features and each reference pattern\n",
    "    corr_ionian = np.corrcoef(chroma_mean, ionian)[0, 1]\n",
    "    corr_dorian = np.corrcoef(chroma_mean, dorian)[0, 1]\n",
    "    corr_phrygian = np.corrcoef(chroma_mean, phrygian)[0, 1]\n",
    "    corr_lydian = np.corrcoef(chroma_mean, lydian)[0, 1]\n",
    "    corr_mixolydian = np.corrcoef(chroma_mean, mixolydian)[0, 1]\n",
    "    corr_aeolian = np.corrcoef(chroma_mean, aeolian)[0, 1]\n",
    "    corr_locrian = np.corrcoef(chroma_mean, locrian)[0, 1]\n",
    "\n",
    "    # Determine the mode with the highest correlation\n",
    "    mode_type = np.argmax([corr_ionian, corr_dorian, corr_phrygian, corr_lydian, corr_mixolydian, corr_aeolian, corr_locrian]) \n",
    "    return mode_type"
   ]
  },
  {
   "cell_type": "code",
   "execution_count": 249,
   "id": "eb7da2f3",
   "metadata": {},
   "outputs": [],
   "source": [
    "def return_mode_type_name(mode_type_value):\n",
    "    if mode_type_value == 0:\n",
    "        return \"ionian\"\n",
    "    elif mode_type_value == 1:\n",
    "        return \"dorian\"\n",
    "    elif mode_type_value == 2:\n",
    "        return \"phrygian\"\n",
    "    elif mode_type_value == 3:\n",
    "        return \"lydian\"\n",
    "    elif mode_type_value == 4:\n",
    "        return \"mixolydian\"\n",
    "    elif mode_type_value == 5:\n",
    "        return \"aeolian\"\n",
    "    else :\n",
    "        return \"locrian\""
   ]
  },
  {
   "cell_type": "code",
   "execution_count": 250,
   "id": "14a7eeda",
   "metadata": {},
   "outputs": [
    {
     "name": "stdout",
     "output_type": "stream",
     "text": [
      "Mode Type: lydian - 3\n"
     ]
    }
   ],
   "source": [
    "# Compute Mode Type\n",
    "mode_type_value = return_mode_type_value()\n",
    "mode_type_name  = return_mode_type_name(mode_type_value)\n",
    "\n",
    "print(\"Mode Type:\",mode_type_name,\"-\",mode_type_value)"
   ]
  },
  {
   "cell_type": "code",
   "execution_count": 251,
   "id": "ea2eea55",
   "metadata": {},
   "outputs": [
    {
     "name": "stdout",
     "output_type": "stream",
     "text": [
      "0.050000000000000044\n"
     ]
    }
   ],
   "source": [
    "# Compute the tuning\n",
    "tuning = librosa.estimate_tuning(y=y,sr=sr)\n",
    "print(tuning)"
   ]
  },
  {
   "cell_type": "code",
   "execution_count": 252,
   "id": "24c4834b",
   "metadata": {},
   "outputs": [
    {
     "name": "stdout",
     "output_type": "stream",
     "text": [
      "Timbre : [[   0.            0.            0.         ... 2216.88827378\n",
      "  2854.30025213 4261.87464041]] 2402.7417296333533\n"
     ]
    }
   ],
   "source": [
    "# Compute the timbre (Timbre)\n",
    "timbre = librosa.feature.spectral_centroid(y=y, sr=sr)\n",
    "print(\"Timbre :\",timbre,np.mean(timbre))"
   ]
  },
  {
   "cell_type": "code",
   "execution_count": 253,
   "id": "e4244aea",
   "metadata": {},
   "outputs": [
    {
     "name": "stdout",
     "output_type": "stream",
     "text": [
      "Dynamics: 0.43946177 0.0 0.2157591\n"
     ]
    }
   ],
   "source": [
    "# Compute the dynamics (Dynamics)\n",
    "dynamics = librosa.feature.rms(y=y)\n",
    "print(\"Dynamics:\",np.max(dynamics),np.min(dynamics),np.mean(dynamics))"
   ]
  },
  {
   "cell_type": "code",
   "execution_count": 258,
   "id": "a297825f",
   "metadata": {},
   "outputs": [
    {
     "name": "stdout",
     "output_type": "stream",
     "text": [
      "[1.00000000e+00 8.60468914e-01 7.58629690e-01 7.49409391e-01\n",
      " 7.59071566e-01 7.79120596e-01 7.97176486e-01 7.78622997e-01\n",
      " 7.61206637e-01 7.58132737e-01 7.70530696e-01 7.93205478e-01\n",
      " 8.13831127e-01 7.93391434e-01 7.67923143e-01 7.52944016e-01\n",
      " 7.52902884e-01 7.64251398e-01 7.83247087e-01 7.79380175e-01\n",
      " 7.69062391e-01 7.58427263e-01 7.60911822e-01 7.74827646e-01\n",
      " 7.95015684e-01 7.82740708e-01 7.57697146e-01 7.39656670e-01\n",
      " 7.39497517e-01 7.49765850e-01 7.61551846e-01 7.54084799e-01\n",
      " 7.41118598e-01 7.30156588e-01 7.35464583e-01 7.49644095e-01\n",
      " 7.60942739e-01 7.51933915e-01 7.35131309e-01 7.25585555e-01\n",
      " 7.26955502e-01 7.24420664e-01 7.27294925e-01 7.23773439e-01\n",
      " 7.13671554e-01 7.01944111e-01 7.06817617e-01 7.14893999e-01\n",
      " 7.19992364e-01 7.18022703e-01 7.06217553e-01 6.86917123e-01\n",
      " 6.83916663e-01 6.85266381e-01 6.84602655e-01 6.78150452e-01\n",
      " 6.71308719e-01 6.63949364e-01 6.70423681e-01 6.75846848e-01\n",
      " 6.76791674e-01 6.75250564e-01 6.68427038e-01 6.50609679e-01\n",
      " 6.44753785e-01 6.40932046e-01 6.38526666e-01 6.36170904e-01\n",
      " 6.35109565e-01 6.30102813e-01 6.34269905e-01 6.27548831e-01\n",
      " 6.19228463e-01 6.20514660e-01 6.22834762e-01 6.09804424e-01\n",
      " 6.00119393e-01 5.89074209e-01 5.86626308e-01 5.90167507e-01\n",
      " 5.92416750e-01 5.82883755e-01 5.76873724e-01 5.67473488e-01\n",
      " 5.62493459e-01 5.67371945e-01 5.72976061e-01 5.61983284e-01\n",
      " 5.49807204e-01 5.36814023e-01 5.29472624e-01 5.27648510e-01\n",
      " 5.32780187e-01 5.32999698e-01 5.29099234e-01 5.14891781e-01\n",
      " 5.06307529e-01 5.07981196e-01 5.18378682e-01 5.15797193e-01\n",
      " 5.02446466e-01 4.84501925e-01 4.75055270e-01 4.72673267e-01\n",
      " 4.78910906e-01 4.81743823e-01 4.76755620e-01 4.61632584e-01\n",
      " 4.51495682e-01 4.48441198e-01 4.54525814e-01 4.53831045e-01\n",
      " 4.43282794e-01 4.28435783e-01 4.21467236e-01 4.18622003e-01\n",
      " 4.22714383e-01 4.25938740e-01 4.22803815e-01 4.10737472e-01\n",
      " 4.00278435e-01 3.93943147e-01 3.99278140e-01 4.01256169e-01\n",
      " 3.91614004e-01 3.75434902e-01 3.67601195e-01 3.65194620e-01\n",
      " 3.70875908e-01 3.73170620e-01 3.63937668e-01 3.48767122e-01\n",
      " 3.41945097e-01 3.38958779e-01 3.41314265e-01 3.42454248e-01\n",
      " 3.35899532e-01 3.23873099e-01 3.18996767e-01 3.17943325e-01\n",
      " 3.21891745e-01 3.21472358e-01 3.12316055e-01 2.98350663e-01\n",
      " 2.91398503e-01 2.88325290e-01 2.90583038e-01 2.92635737e-01\n",
      " 2.88916070e-01 2.78452532e-01 2.70522345e-01 2.65287488e-01\n",
      " 2.65367048e-01 2.64175588e-01 2.58763895e-01 2.49144423e-01\n",
      " 2.42953535e-01 2.40167353e-01 2.43079806e-01 2.45690630e-01\n",
      " 2.42894022e-01 2.32826563e-01 2.23796442e-01 2.18999837e-01\n",
      " 2.19801743e-01 2.18827273e-01 2.14386090e-01 2.06675548e-01\n",
      " 2.01078294e-01 1.97693817e-01 1.97168276e-01 1.97509984e-01\n",
      " 1.96724321e-01 1.89652996e-01 1.82418439e-01 1.78667809e-01\n",
      " 1.77973303e-01 1.75732821e-01 1.73264117e-01 1.68475719e-01\n",
      " 1.63158803e-01 1.59138264e-01 1.57836939e-01 1.55947174e-01\n",
      " 1.55154765e-01 1.51643828e-01 1.46778914e-01 1.43415143e-01\n",
      " 1.42063345e-01 1.38582864e-01 1.35443447e-01 1.32209205e-01\n",
      " 1.29459371e-01 1.26593241e-01 1.24056383e-01 1.21039586e-01\n",
      " 1.20543468e-01 1.19583400e-01 1.17184058e-01 1.13560523e-01\n",
      " 1.10136527e-01 1.05989338e-01 1.03918050e-01 1.02304007e-01\n",
      " 1.00269674e-01 9.69593052e-02 9.45549748e-02 9.23380140e-02\n",
      " 9.14803050e-02 9.03783170e-02 8.85843438e-02 8.62185966e-02\n",
      " 8.37078566e-02 8.02726901e-02 7.82578197e-02 7.66835861e-02\n",
      " 7.50178120e-02 7.29295808e-02 7.11331928e-02 6.87392914e-02\n",
      " 6.74321786e-02 6.67955019e-02 6.57312294e-02 6.33592048e-02\n",
      " 6.08781105e-02 5.83881570e-02 5.69972681e-02 5.58066884e-02\n",
      " 5.47046467e-02 5.28536470e-02 5.08636389e-02 4.89938117e-02\n",
      " 4.81087129e-02 4.77122670e-02 4.73567679e-02 4.57337666e-02\n",
      " 4.35551695e-02 4.15773105e-02 4.05805828e-02 3.95940196e-02\n",
      " 3.86612293e-02 3.71525942e-02 3.54986277e-02 3.40148082e-02\n",
      " 3.33446568e-02 3.30972743e-02 3.31088002e-02 3.18236512e-02\n",
      " 2.98097860e-02 2.81025251e-02 2.72529728e-02 2.66428022e-02\n",
      " 2.61517375e-02 2.50172420e-02 2.37590570e-02 2.27315104e-02\n",
      " 2.22344703e-02 2.20740283e-02 2.20757187e-02 2.11072059e-02\n",
      " 1.96128523e-02 1.83621940e-02 1.76524607e-02 1.72021682e-02\n",
      " 1.69104093e-02 1.62366658e-02 1.53929325e-02 1.46014658e-02\n",
      " 1.41231543e-02 1.38225342e-02 1.36867657e-02 1.31267585e-02\n",
      " 1.22396248e-02 1.14117160e-02 1.09017100e-02 1.05339587e-02\n",
      " 1.03066362e-02 9.92781770e-03 9.45911422e-03 8.92715207e-03\n",
      " 8.52121293e-03 8.26545717e-03 8.16139051e-03 7.77911347e-03\n",
      " 7.20660124e-03 6.67674557e-03 6.33537818e-03 6.09820948e-03\n",
      " 5.93368467e-03 5.65519039e-03 5.31019355e-03 4.96919905e-03\n",
      " 4.72550863e-03 4.53722283e-03 4.40626836e-03 4.19909721e-03\n",
      " 3.92076158e-03 3.64015912e-03 3.43999099e-03 3.27021270e-03\n",
      " 3.12631022e-03 2.93581878e-03 2.74513255e-03 2.55830624e-03\n",
      " 2.41940351e-03 2.30940734e-03 2.21392617e-03 2.10102491e-03\n",
      " 1.96022366e-03 1.78954337e-03 1.65773604e-03 1.55500576e-03\n",
      " 1.46703824e-03 1.36920254e-03 1.27193255e-03 1.17282602e-03\n",
      " 1.10224213e-03 1.04665522e-03 9.87035690e-04 9.14300523e-04\n",
      " 8.44195496e-04 7.69207283e-04 7.06327618e-04 6.48196663e-04\n",
      " 5.97020287e-04 5.49332495e-04 5.07974645e-04 4.65024227e-04\n",
      " 4.29145509e-04 3.94907862e-04 3.61137116e-04 3.30318140e-04\n",
      " 3.04058830e-04 2.73475942e-04 2.44493448e-04 2.19185764e-04\n",
      " 1.98291515e-04 1.79426632e-04 1.62864800e-04 1.45726219e-04\n",
      " 1.30583274e-04 1.16204379e-04 1.03450750e-04 9.26413927e-05\n",
      " 8.34099243e-05 7.30815797e-05 6.33937788e-05 5.48321932e-05\n",
      " 4.76857122e-05 4.13646956e-05 3.62127713e-05 3.15262535e-05\n",
      " 2.73385862e-05 2.32036127e-05 1.94538738e-05 1.62905896e-05\n",
      " 1.39201054e-05 1.17870207e-05 9.78244822e-06 7.86643847e-06\n",
      " 6.29614901e-06 5.05575318e-06 4.11115410e-06 3.32300044e-06\n",
      " 2.63887216e-06 2.01555540e-06 1.50983720e-06 1.12929891e-06\n",
      " 8.52320587e-07 6.28278622e-07 4.43964382e-07 2.99461804e-07\n",
      " 1.97838977e-07 1.27341015e-07 8.02062003e-08 4.85261789e-08\n",
      " 2.72876191e-08 1.37789373e-08 6.26747134e-09 2.48972700e-09\n",
      " 8.22631987e-10 1.96793901e-10 2.47535179e-11 5.38750093e-17]\n"
     ]
    }
   ],
   "source": [
    "# Compute the musical motif (Musical motif)\n",
    "motif_matrix = librosa.feature.tempogram(y=y, sr=sr)\n",
    "motif = (np.mean(motif_matrix, axis=1))\n",
    "print(motif)"
   ]
  },
  {
   "cell_type": "code",
   "execution_count": 264,
   "id": "5ac43978",
   "metadata": {},
   "outputs": [
    {
     "name": "stdout",
     "output_type": "stream",
     "text": [
      "[2.04480114e+01 1.61325150e+02 2.18422577e+02 2.07964493e+02\n",
      " 1.05280365e+02 5.17097168e+01 6.49968567e+01 8.38005981e+01\n",
      " 3.98181381e+01 3.73064461e+01 3.42381020e+01 2.70365143e+01\n",
      " 1.77504330e+01 1.13334227e+01 7.96545506e+00 1.18824978e+01\n",
      " 1.08139248e+01 1.06248455e+01 1.54022007e+01 1.09759855e+01\n",
      " 1.36090736e+01 1.56039934e+01 6.49716091e+00 1.00359297e+01\n",
      " 1.38147221e+01 1.43517389e+01 4.34838295e+00 8.20730686e+00\n",
      " 1.17138367e+01 4.75940514e+00 4.32210255e+00 1.20749388e+01\n",
      " 1.09399643e+01 1.47465219e+01 8.05916977e+00 7.71892595e+00\n",
      " 6.30876684e+00 1.25320101e+01 9.49266529e+00 5.16172314e+00\n",
      " 3.81368876e+00 6.39510775e+00 9.43125629e+00 4.17603493e+00\n",
      " 4.11551809e+00 3.62697220e+00 7.51996708e+00 4.58921957e+00\n",
      " 8.78476810e+00 5.06482077e+00 4.06783772e+00 3.21464372e+00\n",
      " 4.85403156e+00 4.86253881e+00 2.37695932e+00 2.04476166e+00\n",
      " 2.80245876e+00 3.63544226e+00 2.21828890e+00 3.60680604e+00\n",
      " 1.81154275e+00 2.08639383e+00 1.90310526e+00 2.14166713e+00\n",
      " 1.99122214e+00 1.61295223e+00 1.71073151e+00 1.80913889e+00\n",
      " 2.03456616e+00 2.01513290e+00 1.48005652e+00 1.02606618e+00\n",
      " 2.65345359e+00 1.55492878e+00 1.54208446e+00 1.29858482e+00\n",
      " 1.15177345e+00 1.08967149e+00 1.37019932e+00 1.56956685e+00\n",
      " 1.20536470e+00 8.46413970e-01 8.84128332e-01 1.50867105e+00\n",
      " 1.10545135e+00 1.16340661e+00 1.13573992e+00 1.07456911e+00\n",
      " 9.67787206e-01 9.96470690e-01 8.32330525e-01 6.47262990e-01\n",
      " 5.23140311e-01 4.98943865e-01 5.10414004e-01 4.51935053e-01\n",
      " 4.29836303e-01 3.98361474e-01 4.13277596e-01 3.73850316e-01\n",
      " 3.25120747e-01 3.19648683e-01 2.91261822e-01 2.51336932e-01\n",
      " 2.58698702e-01 2.30983883e-01 1.97272539e-01 1.90011665e-01\n",
      " 1.75091505e-01 1.73240364e-01 1.76599085e-01 1.84815839e-01\n",
      " 1.82248339e-01 1.71483621e-01 1.51888400e-01 1.23466611e-01\n",
      " 9.52071100e-02 1.04566641e-01 1.03004456e-01 9.35036466e-02\n",
      " 9.68163237e-02 8.12835023e-02 8.07351395e-02 6.06621765e-02\n",
      " 3.33301574e-02 1.07319579e-02 9.32859140e-04 1.24538437e-05]\n"
     ]
    }
   ],
   "source": [
    "# Compute the texture (Texture)\n",
    "texture_matrix = librosa.feature.melspectrogram(y=y, sr=sr)\n",
    "#texture_matrix = librosa.feature.spectral_contrast(y=y, sr=sr)\n",
    "texture = (np.mean(texture_matrix, axis=1))\n",
    "print(texture)"
   ]
  },
  {
   "cell_type": "code",
   "execution_count": 263,
   "id": "e336d201",
   "metadata": {},
   "outputs": [
    {
     "name": "stdout",
     "output_type": "stream",
     "text": [
      "[0. 0. 0. ... 0. 0. 0.]\n"
     ]
    }
   ],
   "source": [
    "####### don't need this feature ########\n",
    "# Compute the melody (Pitch)\n",
    "pitch_matrix, pitch_confidence = librosa.piptrack(y=y, sr=sr)\n",
    "pitch = (np.mean(pitch_matrix, axis=1))\n",
    "print(pitch)"
   ]
  },
  {
   "cell_type": "code",
   "execution_count": 233,
   "id": "1409dcf9",
   "metadata": {},
   "outputs": [
    {
     "name": "stdout",
     "output_type": "stream",
     "text": [
      "Notes Corresponding to Key ['C', 'C♯', 'D', 'D♯', 'E', 'F', 'F♯', 'G', 'G♯', 'A', 'A♯', 'B']\n"
     ]
    }
   ],
   "source": [
    "####### don't need this feature ########\n",
    "notes = librosa.key_to_notes('G:maj')\n",
    "print(\"Notes Corresponding to Key\",notes)"
   ]
  },
  {
   "cell_type": "code",
   "execution_count": 234,
   "id": "6469a1c1",
   "metadata": {},
   "outputs": [
    {
     "data": {
      "image/png": "[encoded data removed]",
      "text/plain": [
       "<Figure size 1000x500 with 2 Axes>"
      ]
     },
     "metadata": {},
     "output_type": "display_data"
    }
   ],
   "source": [
    "####### don't need this feature ########\n",
    "plt.figure(figsize=(10, 5))\n",
    "librosa.display.specshow(tonality, y_axis='tonnetz', x_axis='time')\n",
    "plt.colorbar()\n",
    "plt.title('Tonal Centroid')\n",
    "plt.tight_layout()\n",
    "plt.show()"
   ]
  },
  {
   "cell_type": "code",
   "execution_count": null,
   "id": "6091bc98",
   "metadata": {},
   "outputs": [],
   "source": []
  }
 ],
 "metadata": {
  "kernelspec": {
   "display_name": "Python 3 (ipykernel)",
   "language": "python",
   "name": "python3"
  },
  "language_info": {
   "codemirror_mode": {
    "name": "ipython",
    "version": 3
   },
   "file_extension": ".py",
   "mimetype": "text/x-python",
   "name": "python",
   "nbconvert_exporter": "python",
   "pygments_lexer": "ipython3",
   "version": "3.10.7"
  }
 },
 "nbformat": 4,
 "nbformat_minor": 5
}
