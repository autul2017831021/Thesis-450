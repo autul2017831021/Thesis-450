{
 "cells": [
  {
   "cell_type": "code",
   "execution_count": 1,
   "id": "87a3bbf9",
   "metadata": {},
   "outputs": [],
   "source": [
    "import librosa\n",
    "import numpy as np\n",
    "import math\n",
    "import librosa.display as display\n",
    "import matplotlib.pyplot as plt\n",
    "from collections import Counter\n",
    "import soundfile as sf\n",
    "import IPython.display as ipd"
   ]
  },
  {
   "cell_type": "code",
   "execution_count": 2,
   "id": "7ee23b5b",
   "metadata": {},
   "outputs": [],
   "source": [
    "audio_path = 'data/Vibe - Odhora (with lyrics).wav'\n",
    "#audio_path = 'data/Spiritbox - The Mara Effect live at Silverside Sound.wav'\n",
    "#audio_path = 'data/Arnob-She je boshe ache.wav'"
   ]
  },
  {
   "cell_type": "code",
   "execution_count": 3,
   "id": "1b1fdcce",
   "metadata": {},
   "outputs": [],
   "source": [
    "y, sr = librosa.load(audio_path)"
   ]
  },
  {
   "cell_type": "code",
   "execution_count": 4,
   "id": "09625806",
   "metadata": {},
   "outputs": [],
   "source": [
    "tempo, beat_frames = librosa.beat.beat_track(y=y, sr=sr)"
   ]
  },
  {
   "cell_type": "code",
   "execution_count": 5,
   "id": "427c948a",
   "metadata": {},
   "outputs": [],
   "source": [
    "# Compute the chroma features\n",
    "chroma = librosa.feature.chroma_cqt(y=y, sr=sr)"
   ]
  },
  {
   "cell_type": "code",
   "execution_count": 6,
   "id": "5f2b280a",
   "metadata": {},
   "outputs": [],
   "source": [
    "# Compute the tonality\n",
    "tonality = librosa.feature.tonnetz(y=y, sr=sr)"
   ]
  },
  {
   "cell_type": "code",
   "execution_count": 7,
   "id": "0b6981f0",
   "metadata": {},
   "outputs": [
    {
     "name": "stdout",
     "output_type": "stream",
     "text": [
      "129.19921875\n"
     ]
    }
   ],
   "source": [
    "print(tempo)\n",
    "#print(beat_frames)"
   ]
  },
  {
   "cell_type": "code",
   "execution_count": 8,
   "id": "05bc4005",
   "metadata": {},
   "outputs": [],
   "source": [
    "def return_key_name(key):\n",
    "    if key == 0:\n",
    "        return \"C\"\n",
    "    elif key == 1:\n",
    "        return \"C#/Db\"\n",
    "    elif key == 2:\n",
    "        return \"D\"\n",
    "    elif key == 3:\n",
    "        return \"D#/Eb\"\n",
    "    elif key == 4:\n",
    "        return \"E\"\n",
    "    elif key == 5:\n",
    "        return \"F\"\n",
    "    elif key == 6:\n",
    "        return \"F#/Gb\"\n",
    "    elif key == 7:\n",
    "        return \"G\"\n",
    "    elif key == 8:\n",
    "        return \"G#/Ab\"\n",
    "    elif key == 9:\n",
    "        return \"A\"\n",
    "    elif key == 10:\n",
    "        return \"A#/Bb\"\n",
    "    else :\n",
    "        return \"B\""
   ]
  },
  {
   "cell_type": "code",
   "execution_count": 9,
   "id": "92e9888c",
   "metadata": {},
   "outputs": [
    {
     "name": "stdout",
     "output_type": "stream",
     "text": [
      "Key:  D - 2\n"
     ]
    }
   ],
   "source": [
    "# Compute the key\n",
    "key = np.argmax(np.mean(chroma, axis=1))\n",
    "key_name = return_key_name(key)\n",
    "print(\"Key: \",key_name,\"-\",key)"
   ]
  },
  {
   "cell_type": "code",
   "execution_count": 10,
   "id": "91c69a1c",
   "metadata": {},
   "outputs": [
    {
     "name": "stdout",
     "output_type": "stream",
     "text": [
      "Mode:  In Major Key - 0\n"
     ]
    }
   ],
   "source": [
    "# Compute the mode\n",
    "mode = 1 if np.mean(chroma[5:7]) > np.mean(chroma[-5:-3]) else 0\n",
    "\n",
    "print(\"Mode: \",\"In Major Key -\" if mode==0 else \"In Minor Key -\",mode)"
   ]
  },
  {
   "cell_type": "code",
   "execution_count": 11,
   "id": "d7428e2e",
   "metadata": {},
   "outputs": [],
   "source": [
    "## this function return an integer from [0,6] which corresponds mode type\n",
    "def return_mode_type_value():\n",
    "    ionian = [1, 0, 1, 0, 1, 1, 0, 1, 0, 1, 0, 1]\n",
    "    dorian = [1, 0, 1, 1, 0, 1, 0, 1, 0, 1, 1, 0]\n",
    "    phrygian = [1, 1, 0, 1, 0, 1, 0, 1, 1, 0, 1, 0]\n",
    "    lydian = [1, 0, 1, 0, 1, 0, 1, 1, 0, 1, 0, 1]\n",
    "    mixolydian = [1, 0, 1, 0, 1, 1, 0, 1, 0, 1, 1, 0]\n",
    "    aeolian = [1, 0, 1, 1, 0, 1, 0, 1, 1, 0, 1, 0]\n",
    "    locrian = [1, 1, 0, 1, 0, 1, 1, 0, 1, 0, 1, 0]\n",
    "    \n",
    "    chroma_mean = np.mean(chroma, axis=1)\n",
    "    \n",
    "    # Compute the correlation between the chroma features and each reference pattern\n",
    "    corr_ionian = np.corrcoef(chroma_mean, ionian)[0, 1]\n",
    "    corr_dorian = np.corrcoef(chroma_mean, dorian)[0, 1]\n",
    "    corr_phrygian = np.corrcoef(chroma_mean, phrygian)[0, 1]\n",
    "    corr_lydian = np.corrcoef(chroma_mean, lydian)[0, 1]\n",
    "    corr_mixolydian = np.corrcoef(chroma_mean, mixolydian)[0, 1]\n",
    "    corr_aeolian = np.corrcoef(chroma_mean, aeolian)[0, 1]\n",
    "    corr_locrian = np.corrcoef(chroma_mean, locrian)[0, 1]\n",
    "\n",
    "    # Determine the mode with the highest correlation\n",
    "    mode_type = np.argmax([corr_ionian, corr_dorian, corr_phrygian, corr_lydian, corr_mixolydian, corr_aeolian, corr_locrian]) \n",
    "    return mode_type"
   ]
  },
  {
   "cell_type": "code",
   "execution_count": 12,
   "id": "eb7da2f3",
   "metadata": {},
   "outputs": [],
   "source": [
    "def return_mode_type_name(mode_type_value):\n",
    "    if mode_type_value == 0:\n",
    "        return \"ionian\"\n",
    "    elif mode_type_value == 1:\n",
    "        return \"dorian\"\n",
    "    elif mode_type_value == 2:\n",
    "        return \"phrygian\"\n",
    "    elif mode_type_value == 3:\n",
    "        return \"lydian\"\n",
    "    elif mode_type_value == 4:\n",
    "        return \"mixolydian\"\n",
    "    elif mode_type_value == 5:\n",
    "        return \"aeolian\"\n",
    "    else :\n",
    "        return \"locrian\""
   ]
  },
  {
   "cell_type": "code",
   "execution_count": 13,
   "id": "14a7eeda",
   "metadata": {},
   "outputs": [
    {
     "name": "stdout",
     "output_type": "stream",
     "text": [
      "Mode Type: lydian - 3\n"
     ]
    }
   ],
   "source": [
    "# Compute Mode Type\n",
    "mode_type_value = return_mode_type_value()\n",
    "mode_type_name  = return_mode_type_name(mode_type_value)\n",
    "\n",
    "print(\"Mode Type:\",mode_type_name,\"-\",mode_type_value)"
   ]
  },
  {
   "cell_type": "code",
   "execution_count": 14,
   "id": "ea2eea55",
   "metadata": {},
   "outputs": [
    {
     "name": "stdout",
     "output_type": "stream",
     "text": [
      "0.010000000000000009\n"
     ]
    }
   ],
   "source": [
    "# Compute the tuning\n",
    "tuning = librosa.estimate_tuning(y=y,sr=sr)\n",
    "print(tuning)"
   ]
  },
  {
   "cell_type": "code",
   "execution_count": 15,
   "id": "24c4834b",
   "metadata": {},
   "outputs": [
    {
     "name": "stdout",
     "output_type": "stream",
     "text": [
      "Timbre : [[   0.            0.            0.         ... 6147.96071797\n",
      "  6199.20129945 5899.36398416]] 2511.507527137918\n"
     ]
    }
   ],
   "source": [
    "# Compute the timbre (Timbre)\n",
    "timbre = librosa.feature.spectral_centroid(y=y, sr=sr)\n",
    "print(\"Timbre :\",timbre,np.mean(timbre))"
   ]
  },
  {
   "cell_type": "code",
   "execution_count": 16,
   "id": "e4244aea",
   "metadata": {},
   "outputs": [
    {
     "name": "stdout",
     "output_type": "stream",
     "text": [
      "Dynamics: 0.32140344 0.0 0.15183555\n"
     ]
    }
   ],
   "source": [
    "# Compute the dynamics (Dynamics)\n",
    "dynamics = librosa.feature.rms(y=y)\n",
    "print(\"Dynamics:\",np.max(dynamics),np.min(dynamics),np.mean(dynamics))"
   ]
  },
  {
   "cell_type": "code",
   "execution_count": 17,
   "id": "a297825f",
   "metadata": {},
   "outputs": [
    {
     "name": "stdout",
     "output_type": "stream",
     "text": [
      "[1.00000000e+00 7.32159963e-01 4.89165002e-01 4.31962928e-01\n",
      " 4.33735451e-01 4.37978403e-01 4.39412777e-01 4.42570056e-01\n",
      " 4.76851478e-01 5.78463017e-01 6.88697533e-01 6.25678393e-01\n",
      " 5.08128949e-01 4.52353502e-01 4.38871370e-01 4.37202672e-01\n",
      " 4.38407195e-01 4.42434972e-01 4.82380689e-01 5.88431641e-01\n",
      " 6.78635523e-01 6.06825807e-01 5.01106003e-01 4.48696367e-01\n",
      " 4.33933768e-01 4.30052486e-01 4.31491251e-01 4.36134258e-01\n",
      " 4.69898694e-01 5.58183672e-01 6.37961773e-01 5.92319977e-01\n",
      " 4.97506057e-01 4.43322953e-01 4.27626487e-01 4.20226836e-01\n",
      " 4.15224069e-01 4.17314578e-01 4.48219839e-01 5.27272890e-01\n",
      " 6.09707863e-01 5.86060813e-01 4.96017859e-01 4.29781334e-01\n",
      " 4.07387242e-01 4.01881757e-01 3.99435901e-01 4.03412353e-01\n",
      " 4.30831671e-01 4.97964430e-01 5.67655809e-01 5.53866191e-01\n",
      " 4.77242644e-01 4.11873161e-01 3.89117393e-01 3.85513317e-01\n",
      " 3.83929435e-01 3.86300597e-01 4.15179612e-01 4.91630925e-01\n",
      " 5.89542592e-01 5.88148060e-01 4.96097669e-01 4.09711288e-01\n",
      " 3.73657530e-01 3.64929081e-01 3.63409750e-01 3.63252644e-01\n",
      " 3.78500612e-01 4.19873662e-01 4.84495600e-01 4.97295489e-01\n",
      " 4.46174248e-01 3.81214637e-01 3.49238684e-01 3.39388123e-01\n",
      " 3.36018107e-01 3.35922551e-01 3.49844055e-01 3.89295190e-01\n",
      " 4.55863467e-01 4.75520128e-01 4.23500575e-01 3.58276241e-01\n",
      " 3.25408321e-01 3.16354314e-01 3.14091872e-01 3.13482472e-01\n",
      " 3.23573222e-01 3.51449137e-01 4.07506613e-01 4.33282511e-01\n",
      " 3.97653743e-01 3.39046693e-01 3.06160972e-01 2.92682772e-01\n",
      " 2.86684963e-01 2.85142509e-01 2.93008941e-01 3.18554726e-01\n",
      " 3.66752876e-01 3.94176840e-01 3.66218621e-01 3.11441179e-01\n",
      " 2.76772864e-01 2.65336701e-01 2.62611732e-01 2.61183646e-01\n",
      " 2.67697152e-01 2.94670216e-01 3.38077041e-01 3.56892738e-01\n",
      " 3.27403792e-01 2.76676242e-01 2.46494758e-01 2.36780399e-01\n",
      " 2.33841121e-01 2.32139674e-01 2.37272685e-01 2.67486501e-01\n",
      " 3.30436318e-01 3.66953206e-01 3.34317442e-01 2.69283876e-01\n",
      " 2.27344145e-01 2.12439718e-01 2.09380709e-01 2.07418026e-01\n",
      " 2.09056783e-01 2.23293582e-01 2.55774728e-01 2.79595296e-01\n",
      " 2.66482985e-01 2.31032348e-01 2.03108892e-01 1.89906577e-01\n",
      " 1.85126077e-01 1.82253450e-01 1.84141036e-01 1.98817354e-01\n",
      " 2.28476898e-01 2.46384607e-01 2.31112954e-01 2.00580317e-01\n",
      " 1.77216838e-01 1.65318079e-01 1.61066992e-01 1.59291692e-01\n",
      " 1.61348908e-01 1.73024408e-01 1.96549616e-01 2.12331680e-01\n",
      " 2.00294503e-01 1.75018114e-01 1.55516748e-01 1.44252739e-01\n",
      " 1.39613468e-01 1.36899206e-01 1.36664136e-01 1.45073903e-01\n",
      " 1.65334144e-01 1.81502188e-01 1.76494742e-01 1.53238420e-01\n",
      " 1.32998081e-01 1.22426322e-01 1.18076383e-01 1.15999400e-01\n",
      " 1.16150214e-01 1.22321304e-01 1.38294464e-01 1.49623235e-01\n",
      " 1.46406449e-01 1.30370281e-01 1.13042002e-01 1.02708897e-01\n",
      " 9.93457604e-02 9.73995436e-02 9.71794607e-02 1.02692432e-01\n",
      " 1.20391842e-01 1.36819404e-01 1.35468915e-01 1.17558965e-01\n",
      " 9.87597008e-02 8.65032815e-02 8.23824883e-02 8.08255558e-02\n",
      " 7.95275504e-02 8.12123595e-02 8.99378877e-02 9.97217330e-02\n",
      " 1.01208339e-01 9.11091837e-02 7.83748258e-02 7.03009981e-02\n",
      " 6.64369773e-02 6.46926928e-02 6.38132629e-02 6.52353380e-02\n",
      " 7.21643659e-02 8.15190899e-02 8.39769430e-02 7.58029963e-02\n",
      " 6.38597120e-02 5.64113937e-02 5.32951821e-02 5.18928475e-02\n",
      " 5.10347990e-02 5.16666940e-02 5.61308743e-02 6.29224539e-02\n",
      " 6.56649430e-02 6.00301960e-02 5.12496796e-02 4.49535890e-02\n",
      " 4.22324330e-02 4.07076084e-02 3.94703076e-02 3.94589080e-02\n",
      " 4.27676855e-02 4.84618835e-02 5.11527146e-02 4.71686053e-02\n",
      " 3.98577119e-02 3.46041522e-02 3.22244853e-02 3.10382135e-02\n",
      " 3.03112268e-02 3.04259105e-02 3.29370325e-02 3.72042101e-02\n",
      " 3.91344974e-02 3.51894763e-02 2.96278752e-02 2.59952134e-02\n",
      " 2.43182500e-02 2.32236973e-02 2.23862124e-02 2.23885512e-02\n",
      " 2.47672776e-02 2.97461133e-02 3.33091676e-02 3.01120941e-02\n",
      " 2.39862595e-02 1.95954295e-02 1.77730823e-02 1.70121926e-02\n",
      " 1.64044953e-02 1.61173394e-02 1.67810477e-02 1.88890424e-02\n",
      " 2.08138518e-02 1.94988998e-02 1.63921249e-02 1.40512554e-02\n",
      " 1.27584202e-02 1.20725658e-02 1.16174450e-02 1.14164604e-02\n",
      " 1.19844040e-02 1.33843810e-02 1.44982692e-02 1.36153394e-02\n",
      " 1.13818788e-02 9.60989811e-03 8.78663371e-03 8.36570511e-03\n",
      " 8.01369827e-03 7.78933390e-03 8.06154709e-03 8.97498819e-03\n",
      " 9.64488019e-03 9.04899227e-03 7.68370078e-03 6.50520210e-03\n",
      " 5.84289884e-03 5.47801054e-03 5.21833816e-03 5.05059638e-03\n",
      " 5.15756917e-03 5.62305061e-03 6.17263121e-03 6.01647932e-03\n",
      " 5.03574220e-03 4.14292603e-03 3.67544026e-03 3.43723206e-03\n",
      " 3.25420423e-03 3.13717395e-03 3.18045193e-03 3.43693547e-03\n",
      " 3.68056485e-03 3.59554047e-03 3.07853243e-03 2.53425128e-03\n",
      " 2.23349627e-03 2.07227095e-03 1.94623019e-03 1.85273962e-03\n",
      " 1.86138553e-03 2.02953071e-03 2.28276923e-03 2.30021254e-03\n",
      " 1.94147701e-03 1.52630188e-03 1.27186982e-03 1.14855274e-03\n",
      " 1.07038802e-03 1.01039442e-03 9.74882296e-04 1.00752743e-03\n",
      " 1.09002464e-03 1.09602774e-03 9.53173698e-04 7.71268167e-04\n",
      " 6.47258914e-04 5.81346036e-04 5.34387968e-04 4.96694471e-04\n",
      " 4.77232763e-04 4.90934115e-04 5.27955243e-04 5.34494252e-04\n",
      " 4.61795260e-04 3.63578550e-04 2.99680928e-04 2.64915844e-04\n",
      " 2.40466576e-04 2.21590747e-04 2.08150103e-04 2.06983396e-04\n",
      " 2.17733444e-04 2.17319702e-04 1.89446780e-04 1.49111608e-04\n",
      " 1.18916486e-04 1.02492335e-04 9.15538443e-05 8.21849071e-05\n",
      " 7.52148651e-05 7.27868952e-05 7.47933270e-05 7.41087096e-05\n",
      " 6.36334541e-05 4.84127787e-05 3.76622170e-05 3.13203838e-05\n",
      " 2.69506000e-05 2.33918240e-05 2.08071845e-05 1.95051130e-05\n",
      " 1.94629036e-05 1.87658626e-05 1.53523607e-05 1.09936906e-05\n",
      " 8.15441505e-06 6.50264874e-06 5.33052141e-06 4.35088245e-06\n",
      " 3.61603325e-06 3.24800392e-06 3.22323694e-06 3.06228106e-06\n",
      " 2.34543591e-06 1.48022481e-06 9.35592961e-07 6.47324106e-07\n",
      " 4.71823023e-07 3.42249381e-07 2.45090887e-07 1.78823982e-07\n",
      " 1.40058122e-07 1.05338303e-07 6.56767780e-08 3.39388955e-08\n",
      " 1.63521673e-08 7.76628279e-09 3.51224090e-09 1.40797944e-09\n",
      " 4.68032620e-10 1.17691531e-10 1.70255751e-11 3.14456695e-17]\n"
     ]
    }
   ],
   "source": [
    "# Compute the musical motif (Musical motif)\n",
    "motif_matrix = librosa.feature.tempogram(y=y, sr=sr)\n",
    "motif = (np.mean(motif_matrix, axis=1))\n",
    "print(motif)"
   ]
  },
  {
   "cell_type": "code",
   "execution_count": 18,
   "id": "5ac43978",
   "metadata": {},
   "outputs": [
    {
     "name": "stdout",
     "output_type": "stream",
     "text": [
      "[5.2245765e+00 6.9556862e+01 1.6865831e+02 1.3223869e+02 5.5095097e+01\n",
      " 2.8053774e+01 2.0661934e+01 2.1735958e+01 1.9191782e+01 4.4031982e+00\n",
      " 7.1769204e+00 5.1413002e+00 4.4049578e+00 6.2541375e+00 9.0266638e+00\n",
      " 5.7644596e+00 1.3337752e+01 4.4703465e+00 3.5693612e+00 3.4676287e+00\n",
      " 6.2237473e+00 1.3149530e+01 1.6707102e+01 2.6345487e+00 7.0251551e+00\n",
      " 8.3453674e+00 1.7018958e+00 2.5647135e+00 3.2858565e+00 1.8774383e+00\n",
      " 1.1264161e+00 7.9993796e-01 1.3668203e+00 4.7218661e+00 2.5357435e+00\n",
      " 1.3918297e+00 1.5350728e+00 3.4807472e+00 2.3161273e+00 1.1342012e+00\n",
      " 9.6456659e-01 2.1015074e+00 3.0441425e+00 3.1525257e+00 4.4310188e+00\n",
      " 1.3302047e+00 9.1864216e-01 1.2108946e+00 2.4999373e+00 1.2310898e+00\n",
      " 6.3222373e-01 5.1424253e-01 1.1936647e+00 1.1311089e+00 7.9323983e-01\n",
      " 6.4765710e-01 6.7611724e-01 9.5061493e-01 8.5325199e-01 1.9604759e+00\n",
      " 7.9299295e-01 4.3667957e-01 4.1604570e-01 9.4979078e-01 8.7224692e-01\n",
      " 5.3854120e-01 3.0972722e-01 7.6987076e-01 8.7767726e-01 4.3463817e-01\n",
      " 5.3990287e-01 5.5754179e-01 2.9047421e-01 2.4254572e-01 5.3024316e-01\n",
      " 3.5061494e-01 1.9144763e-01 2.2306070e-01 4.5450112e-01 3.4783223e-01\n",
      " 3.0536115e-01 3.6878577e-01 4.6143386e-01 4.2324665e-01 4.3742716e-01\n",
      " 6.1453027e-01 6.6380221e-01 7.2264266e-01 6.0846865e-01 7.2202659e-01\n",
      " 5.4321903e-01 3.5309839e-01 3.7311664e-01 2.8656188e-01 2.9400700e-01\n",
      " 2.5016171e-01 3.1220174e-01 2.3240140e-01 2.0794232e-01 1.7549372e-01\n",
      " 1.8018544e-01 1.6636308e-01 2.2125614e-01 2.2082049e-01 1.5636221e-01\n",
      " 1.9069375e-01 1.7544125e-01 1.5598159e-01 1.8737327e-01 1.8812869e-01\n",
      " 1.6622709e-01 1.6927668e-01 1.3729195e-01 1.3527273e-01 1.0022042e-01\n",
      " 6.2847331e-02 7.9176240e-02 8.7143980e-02 7.5830542e-02 7.6525599e-02\n",
      " 7.2871514e-02 6.1533183e-02 6.4535663e-02 5.0869968e-02 2.9089184e-02\n",
      " 8.0547994e-03 7.7407801e-04 1.3147389e-05]\n"
     ]
    }
   ],
   "source": [
    "# Compute the texture (Texture)\n",
    "texture_matrix = librosa.feature.melspectrogram(y=y, sr=sr)\n",
    "#texture_matrix = librosa.feature.spectral_contrast(y=y, sr=sr)\n",
    "texture = (np.mean(texture_matrix, axis=1))\n",
    "print(texture)"
   ]
  },
  {
   "cell_type": "code",
   "execution_count": 263,
   "id": "e336d201",
   "metadata": {},
   "outputs": [
    {
     "name": "stdout",
     "output_type": "stream",
     "text": [
      "[0. 0. 0. ... 0. 0. 0.]\n"
     ]
    }
   ],
   "source": [
    "####### don't need this feature ########\n",
    "# Compute the melody (Pitch)\n",
    "pitch_matrix, pitch_confidence = librosa.piptrack(y=y, sr=sr)\n",
    "pitch = (np.mean(pitch_matrix, axis=1))\n",
    "print(pitch)"
   ]
  },
  {
   "cell_type": "code",
   "execution_count": 233,
   "id": "1409dcf9",
   "metadata": {},
   "outputs": [
    {
     "name": "stdout",
     "output_type": "stream",
     "text": [
      "Notes Corresponding to Key ['C', 'C♯', 'D', 'D♯', 'E', 'F', 'F♯', 'G', 'G♯', 'A', 'A♯', 'B']\n"
     ]
    }
   ],
   "source": [
    "####### don't need this feature ########\n",
    "notes = librosa.key_to_notes('G:maj')\n",
    "print(\"Notes Corresponding to Key\",notes)"
   ]
  },
  {
   "cell_type": "code",
   "execution_count": 234,
   "id": "6469a1c1",
   "metadata": {},
   "outputs": [
    {
     "data": {
      "image/png": "[encoded data removed]",
      "text/plain": [
       "<Figure size 1000x500 with 2 Axes>"
      ]
     },
     "metadata": {},
     "output_type": "display_data"
    }
   ],
   "source": [
    "####### don't need this feature ########\n",
    "plt.figure(figsize=(10, 5))\n",
    "librosa.display.specshow(tonality, y_axis='tonnetz', x_axis='time')\n",
    "plt.colorbar()\n",
    "plt.title('Tonal Centroid')\n",
    "plt.tight_layout()\n",
    "plt.show()"
   ]
  },
  {
   "cell_type": "code",
   "execution_count": null,
   "id": "6091bc98",
   "metadata": {},
   "outputs": [],
   "source": []
  }
 ],
 "metadata": {
  "kernelspec": {
   "display_name": "Python 3 (ipykernel)",
   "language": "python",
   "name": "python3"
  },
  "language_info": {
   "codemirror_mode": {
    "name": "ipython",
    "version": 3
   },
   "file_extension": ".py",
   "mimetype": "text/x-python",
   "name": "python",
   "nbconvert_exporter": "python",
   "pygments_lexer": "ipython3",
   "version": "3.10.7"
  }
 },
 "nbformat": 4,
 "nbformat_minor": 5
}
